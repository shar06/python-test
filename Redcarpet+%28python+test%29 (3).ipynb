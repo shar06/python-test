{
 "cells": [
  {
   "cell_type": "markdown",
   "metadata": {},
   "source": [
    "# Data of Fiscal year 2015 with consist of quarter Fiscal year 2014.\n",
    "\n",
    "### As financial year start from April 1 to 31st March"
   ]
  },
  {
   "cell_type": "markdown",
   "metadata": {},
   "source": [
    "#### Part 1.1"
   ]
  },
  {
   "cell_type": "code",
   "execution_count": 197,
   "metadata": {
    "collapsed": false
   },
   "outputs": [],
   "source": [
    "import pandas as pd \n",
    "import numpy as np \n",
    "import datetime\n",
    "from datetime import date\n",
    "from datetime import datetime"
   ]
  },
  {
   "cell_type": "code",
   "execution_count": 198,
   "metadata": {
    "collapsed": false
   },
   "outputs": [],
   "source": [
    "_tcs_infy = pd.read_csv(r\"C:\\Users\\Acer\\Desktop\\01-01-2015-TO-31-12-2015TCS&INFY.csv 1.csv\")"
   ]
  },
  {
   "cell_type": "code",
   "execution_count": 199,
   "metadata": {
    "collapsed": false
   },
   "outputs": [
    {
     "data": {
      "text/plain": [
       "Index(['Symbol', 'Series', 'Date', 'Prev Close', 'Open Price', 'High Price',\n",
       "       'Low Price', 'Last Price', 'Close Price', 'Average Price',\n",
       "       'Total Traded Quantity', 'Turnover', 'No. of Trades', 'Deliverable Qty',\n",
       "       '% Dly Qt to Traded Qty'],\n",
       "      dtype='object')"
      ]
     },
     "execution_count": 199,
     "metadata": {},
     "output_type": "execute_result"
    }
   ],
   "source": [
    "_tcs_infy.columns"
   ]
  },
  {
   "cell_type": "code",
   "execution_count": 200,
   "metadata": {
    "collapsed": false
   },
   "outputs": [
    {
     "data": {
      "text/html": [
       "<div>\n",
       "<table border=\"1\" class=\"dataframe\">\n",
       "  <thead>\n",
       "    <tr style=\"text-align: right;\">\n",
       "      <th></th>\n",
       "      <th>Prev Close</th>\n",
       "      <th>Open Price</th>\n",
       "      <th>High Price</th>\n",
       "      <th>Low Price</th>\n",
       "      <th>Last Price</th>\n",
       "      <th>Close Price</th>\n",
       "      <th>Average Price</th>\n",
       "      <th>Total Traded Quantity</th>\n",
       "      <th>Turnover</th>\n",
       "      <th>No. of Trades</th>\n",
       "      <th>Deliverable Qty</th>\n",
       "      <th>% Dly Qt to Traded Qty</th>\n",
       "    </tr>\n",
       "  </thead>\n",
       "  <tbody>\n",
       "    <tr>\n",
       "      <th>count</th>\n",
       "      <td>498.000000</td>\n",
       "      <td>498.000000</td>\n",
       "      <td>498.000000</td>\n",
       "      <td>498.000000</td>\n",
       "      <td>498.000000</td>\n",
       "      <td>498.000000</td>\n",
       "      <td>498.000000</td>\n",
       "      <td>4.980000e+02</td>\n",
       "      <td>4.980000e+02</td>\n",
       "      <td>498.000000</td>\n",
       "      <td>4.980000e+02</td>\n",
       "      <td>498.000000</td>\n",
       "    </tr>\n",
       "    <tr>\n",
       "      <th>mean</th>\n",
       "      <td>2043.094779</td>\n",
       "      <td>2047.640261</td>\n",
       "      <td>2066.149297</td>\n",
       "      <td>2023.644378</td>\n",
       "      <td>2044.375904</td>\n",
       "      <td>2044.162550</td>\n",
       "      <td>2044.595582</td>\n",
       "      <td>2.070211e+06</td>\n",
       "      <td>3.594301e+09</td>\n",
       "      <td>79453.941767</td>\n",
       "      <td>1.363844e+06</td>\n",
       "      <td>66.565281</td>\n",
       "    </tr>\n",
       "    <tr>\n",
       "      <th>std</th>\n",
       "      <td>622.985417</td>\n",
       "      <td>624.273670</td>\n",
       "      <td>628.433114</td>\n",
       "      <td>618.402416</td>\n",
       "      <td>623.091451</td>\n",
       "      <td>623.010499</td>\n",
       "      <td>622.958112</td>\n",
       "      <td>1.759975e+06</td>\n",
       "      <td>2.304106e+09</td>\n",
       "      <td>43309.473159</td>\n",
       "      <td>1.019966e+06</td>\n",
       "      <td>9.430002</td>\n",
       "    </tr>\n",
       "    <tr>\n",
       "      <th>min</th>\n",
       "      <td>937.500000</td>\n",
       "      <td>941.000000</td>\n",
       "      <td>952.100000</td>\n",
       "      <td>932.650000</td>\n",
       "      <td>935.500000</td>\n",
       "      <td>937.500000</td>\n",
       "      <td>941.180000</td>\n",
       "      <td>4.986500e+04</td>\n",
       "      <td>1.298584e+08</td>\n",
       "      <td>1.000000</td>\n",
       "      <td>0.000000e+00</td>\n",
       "      <td>0.000000</td>\n",
       "    </tr>\n",
       "    <tr>\n",
       "      <th>25%</th>\n",
       "      <td>1149.525000</td>\n",
       "      <td>1150.000000</td>\n",
       "      <td>1162.425000</td>\n",
       "      <td>1132.575000</td>\n",
       "      <td>1147.625000</td>\n",
       "      <td>1149.525000</td>\n",
       "      <td>1147.160000</td>\n",
       "      <td>1.002918e+06</td>\n",
       "      <td>2.320811e+09</td>\n",
       "      <td>53267.750000</td>\n",
       "      <td>6.762732e+05</td>\n",
       "      <td>61.490000</td>\n",
       "    </tr>\n",
       "  </tbody>\n",
       "</table>\n",
       "</div>"
      ],
      "text/plain": [
       "        Prev Close   Open Price   High Price    Low Price   Last Price  \\\n",
       "count   498.000000   498.000000   498.000000   498.000000   498.000000   \n",
       "mean   2043.094779  2047.640261  2066.149297  2023.644378  2044.375904   \n",
       "std     622.985417   624.273670   628.433114   618.402416   623.091451   \n",
       "min     937.500000   941.000000   952.100000   932.650000   935.500000   \n",
       "25%    1149.525000  1150.000000  1162.425000  1132.575000  1147.625000   \n",
       "\n",
       "       Close Price  Average Price  Total Traded Quantity      Turnover  \\\n",
       "count   498.000000     498.000000           4.980000e+02  4.980000e+02   \n",
       "mean   2044.162550    2044.595582           2.070211e+06  3.594301e+09   \n",
       "std     623.010499     622.958112           1.759975e+06  2.304106e+09   \n",
       "min     937.500000     941.180000           4.986500e+04  1.298584e+08   \n",
       "25%    1149.525000    1147.160000           1.002918e+06  2.320811e+09   \n",
       "\n",
       "       No. of Trades  Deliverable Qty  % Dly Qt to Traded Qty  \n",
       "count     498.000000     4.980000e+02              498.000000  \n",
       "mean    79453.941767     1.363844e+06               66.565281  \n",
       "std     43309.473159     1.019966e+06                9.430002  \n",
       "min         1.000000     0.000000e+00                0.000000  \n",
       "25%     53267.750000     6.762732e+05               61.490000  "
      ]
     },
     "execution_count": 200,
     "metadata": {},
     "output_type": "execute_result"
    }
   ],
   "source": [
    "_tcs_infy.describe().head()"
   ]
  },
  {
   "cell_type": "code",
   "execution_count": 201,
   "metadata": {
    "collapsed": false
   },
   "outputs": [
    {
     "name": "stdout",
     "output_type": "stream",
     "text": [
      "<class 'pandas.core.frame.DataFrame'>\n",
      "RangeIndex: 498 entries, 0 to 497\n",
      "Data columns (total 15 columns):\n",
      "Symbol                    498 non-null object\n",
      "Series                    498 non-null object\n",
      "Date                      498 non-null object\n",
      "Prev Close                498 non-null float64\n",
      "Open Price                498 non-null float64\n",
      "High Price                498 non-null float64\n",
      "Low Price                 498 non-null float64\n",
      "Last Price                498 non-null float64\n",
      "Close Price               498 non-null float64\n",
      "Average Price             498 non-null float64\n",
      "Total Traded Quantity     498 non-null int64\n",
      "Turnover                  498 non-null float64\n",
      "No. of Trades             498 non-null int64\n",
      "Deliverable Qty           498 non-null int64\n",
      "% Dly Qt to Traded Qty    498 non-null float64\n",
      "dtypes: float64(9), int64(3), object(3)\n",
      "memory usage: 58.4+ KB\n"
     ]
    }
   ],
   "source": [
    "_tcs_infy.info()"
   ]
  },
  {
   "cell_type": "code",
   "execution_count": 202,
   "metadata": {
    "collapsed": false
   },
   "outputs": [],
   "source": [
    "_nifty = pd.read_csv(r\"C:\\Users\\Acer\\Desktop\\dataNIFTYIT.csv\")"
   ]
  },
  {
   "cell_type": "code",
   "execution_count": 203,
   "metadata": {
    "collapsed": false
   },
   "outputs": [
    {
     "data": {
      "text/html": [
       "<div>\n",
       "<table border=\"1\" class=\"dataframe\">\n",
       "  <thead>\n",
       "    <tr style=\"text-align: right;\">\n",
       "      <th></th>\n",
       "      <th>Open</th>\n",
       "      <th>High</th>\n",
       "      <th>Low</th>\n",
       "      <th>Close</th>\n",
       "      <th>Shares Traded</th>\n",
       "      <th>Turnover (Rs. Cr)</th>\n",
       "    </tr>\n",
       "  </thead>\n",
       "  <tbody>\n",
       "    <tr>\n",
       "      <th>count</th>\n",
       "      <td>248.000000</td>\n",
       "      <td>248.000000</td>\n",
       "      <td>248.000000</td>\n",
       "      <td>248.000000</td>\n",
       "      <td>2.480000e+02</td>\n",
       "      <td>248.000000</td>\n",
       "    </tr>\n",
       "    <tr>\n",
       "      <th>mean</th>\n",
       "      <td>11601.495968</td>\n",
       "      <td>11673.756250</td>\n",
       "      <td>11505.632056</td>\n",
       "      <td>11585.626613</td>\n",
       "      <td>1.383053e+07</td>\n",
       "      <td>1354.939960</td>\n",
       "    </tr>\n",
       "    <tr>\n",
       "      <th>std</th>\n",
       "      <td>468.997883</td>\n",
       "      <td>472.763542</td>\n",
       "      <td>462.203401</td>\n",
       "      <td>466.678465</td>\n",
       "      <td>6.401886e+06</td>\n",
       "      <td>546.153927</td>\n",
       "    </tr>\n",
       "    <tr>\n",
       "      <th>min</th>\n",
       "      <td>10840.650000</td>\n",
       "      <td>10950.250000</td>\n",
       "      <td>10759.850000</td>\n",
       "      <td>10798.250000</td>\n",
       "      <td>7.952400e+05</td>\n",
       "      <td>82.720000</td>\n",
       "    </tr>\n",
       "    <tr>\n",
       "      <th>25%</th>\n",
       "      <td>11214.762500</td>\n",
       "      <td>11268.200000</td>\n",
       "      <td>11133.312500</td>\n",
       "      <td>11210.200000</td>\n",
       "      <td>9.304708e+06</td>\n",
       "      <td>943.850000</td>\n",
       "    </tr>\n",
       "  </tbody>\n",
       "</table>\n",
       "</div>"
      ],
      "text/plain": [
       "               Open          High           Low         Close  Shares Traded  \\\n",
       "count    248.000000    248.000000    248.000000    248.000000   2.480000e+02   \n",
       "mean   11601.495968  11673.756250  11505.632056  11585.626613   1.383053e+07   \n",
       "std      468.997883    472.763542    462.203401    466.678465   6.401886e+06   \n",
       "min    10840.650000  10950.250000  10759.850000  10798.250000   7.952400e+05   \n",
       "25%    11214.762500  11268.200000  11133.312500  11210.200000   9.304708e+06   \n",
       "\n",
       "       Turnover (Rs. Cr)  \n",
       "count         248.000000  \n",
       "mean         1354.939960  \n",
       "std           546.153927  \n",
       "min            82.720000  \n",
       "25%           943.850000  "
      ]
     },
     "execution_count": 203,
     "metadata": {},
     "output_type": "execute_result"
    }
   ],
   "source": [
    "_nifty.describe().head()"
   ]
  },
  {
   "cell_type": "code",
   "execution_count": 204,
   "metadata": {
    "collapsed": false
   },
   "outputs": [
    {
     "name": "stdout",
     "output_type": "stream",
     "text": [
      "<class 'pandas.core.frame.DataFrame'>\n",
      "RangeIndex: 248 entries, 0 to 247\n",
      "Data columns (total 7 columns):\n",
      "Date                 248 non-null object\n",
      "Open                 248 non-null float64\n",
      "High                 248 non-null float64\n",
      "Low                  248 non-null float64\n",
      "Close                248 non-null float64\n",
      "Shares Traded        248 non-null int64\n",
      "Turnover (Rs. Cr)    248 non-null float64\n",
      "dtypes: float64(5), int64(1), object(1)\n",
      "memory usage: 13.6+ KB\n"
     ]
    }
   ],
   "source": [
    "_nifty.info()"
   ]
  },
  {
   "cell_type": "code",
   "execution_count": 205,
   "metadata": {
    "collapsed": false
   },
   "outputs": [],
   "source": [
    "_tcs_infy[\"Date\"]= pd.to_datetime(_tcs_infy[\"Date\"])"
   ]
  },
  {
   "cell_type": "code",
   "execution_count": 206,
   "metadata": {
    "collapsed": false
   },
   "outputs": [
    {
     "data": {
      "text/plain": [
       "dtype('<M8[ns]')"
      ]
     },
     "execution_count": 206,
     "metadata": {},
     "output_type": "execute_result"
    }
   ],
   "source": [
    "_tcs_infy.Date.dtype # Checking the data"
   ]
  },
  {
   "cell_type": "code",
   "execution_count": 207,
   "metadata": {
    "collapsed": true
   },
   "outputs": [],
   "source": [
    "def strd(Date):\n",
    "        return datetime.date(pd.to_datetime(datetime.date(datetime.strptime(str(Date), '%Y-%m-%d')))) #Creating a function to change the data type"
   ]
  },
  {
   "cell_type": "code",
   "execution_count": 209,
   "metadata": {
    "collapsed": true
   },
   "outputs": [],
   "source": [
    "def weeks(Date):\n",
    "    #print(Date)\n",
    "    Date1 = strd(Date)\n",
    "    #print(Date1)\n",
    "    if Date1 <= strd('2015-1-28'):\n",
    "        return (\"week4\")\n",
    "    elif Date1 >strd('2015-1-28') and Date1  <= strd('2015-4-22'):\n",
    "        return (\"week16\")\n",
    "    elif Date1 > strd('2015-4-22') and Date1  <= strd('2015-7-15'):\n",
    "        return (\"week28\")\n",
    "    elif Date1 > strd('2015-7-15') and Date1 <= strd('2015-10-7'):\n",
    "        return (\"week40\")\n",
    "    elif Date1 > strd('2015-10-7') and Date1  <= strd('2015-12-31'):\n",
    "        return (\"week52\")\n",
    "    else:\n",
    "        pass # Creating function and applying condition as per "
   ]
  },
  {
   "cell_type": "code",
   "execution_count": 210,
   "metadata": {
    "collapsed": false
   },
   "outputs": [
    {
     "data": {
      "text/plain": [
       "datetime.date(2015, 1, 25)"
      ]
     },
     "execution_count": 210,
     "metadata": {},
     "output_type": "execute_result"
    }
   ],
   "source": [
    "strd('2015-1-25')"
   ]
  },
  {
   "cell_type": "code",
   "execution_count": 211,
   "metadata": {
    "collapsed": false
   },
   "outputs": [
    {
     "data": {
      "text/plain": [
       "'week52'"
      ]
     },
     "execution_count": 211,
     "metadata": {},
     "output_type": "execute_result"
    }
   ],
   "source": [
    "weeks('2015-4-25')\n",
    "weeks('2015-11-12')"
   ]
  },
  {
   "cell_type": "code",
   "execution_count": 212,
   "metadata": {
    "collapsed": false
   },
   "outputs": [],
   "source": [
    "week = []\n",
    "i = 1\n",
    "count = 0\n",
    "#rint(_tcs_infy.Date)\n",
    "while count < 498:\n",
    "    #rint(pd.to_datetime(_tcs_infy.Date[count]))\n",
    "    temp=_tcs_infy.Date[count]\n",
    "#print (str.split(str(temp),' ')[0])\n",
    "    week.append(weeks(str.split(str(temp),' ')[0]))\n",
    "    count += 1"
   ]
  },
  {
   "cell_type": "code",
   "execution_count": 213,
   "metadata": {
    "collapsed": false
   },
   "outputs": [
    {
     "name": "stdout",
     "output_type": "stream",
     "text": [
      "498\n"
     ]
    }
   ],
   "source": [
    "print(len(week))\n",
    "#print(week)"
   ]
  },
  {
   "cell_type": "code",
   "execution_count": 214,
   "metadata": {
    "collapsed": false
   },
   "outputs": [],
   "source": [
    "week = pd.DataFrame(week)"
   ]
  },
  {
   "cell_type": "code",
   "execution_count": 215,
   "metadata": {
    "collapsed": true
   },
   "outputs": [],
   "source": [
    "_tcs_infy['week'] = week"
   ]
  },
  {
   "cell_type": "code",
   "execution_count": 216,
   "metadata": {
    "collapsed": false
   },
   "outputs": [
    {
     "data": {
      "text/html": [
       "<div>\n",
       "<table border=\"1\" class=\"dataframe\">\n",
       "  <thead>\n",
       "    <tr style=\"text-align: right;\">\n",
       "      <th></th>\n",
       "      <th>Symbol</th>\n",
       "      <th>Series</th>\n",
       "      <th>Date</th>\n",
       "      <th>Prev Close</th>\n",
       "      <th>Open Price</th>\n",
       "      <th>High Price</th>\n",
       "      <th>Low Price</th>\n",
       "      <th>Last Price</th>\n",
       "      <th>Close Price</th>\n",
       "      <th>Average Price</th>\n",
       "      <th>Total Traded Quantity</th>\n",
       "      <th>Turnover</th>\n",
       "      <th>No. of Trades</th>\n",
       "      <th>Deliverable Qty</th>\n",
       "      <th>% Dly Qt to Traded Qty</th>\n",
       "      <th>week</th>\n",
       "    </tr>\n",
       "  </thead>\n",
       "  <tbody>\n",
       "    <tr>\n",
       "      <th>0</th>\n",
       "      <td>TCS</td>\n",
       "      <td>EQ</td>\n",
       "      <td>2015-01-01</td>\n",
       "      <td>2558.25</td>\n",
       "      <td>2567.0</td>\n",
       "      <td>2567.00</td>\n",
       "      <td>2541.00</td>\n",
       "      <td>2550.00</td>\n",
       "      <td>2545.55</td>\n",
       "      <td>2548.51</td>\n",
       "      <td>183415</td>\n",
       "      <td>4.674345e+08</td>\n",
       "      <td>8002</td>\n",
       "      <td>52870</td>\n",
       "      <td>28.83</td>\n",
       "      <td>week4</td>\n",
       "    </tr>\n",
       "    <tr>\n",
       "      <th>1</th>\n",
       "      <td>TCS</td>\n",
       "      <td>EQ</td>\n",
       "      <td>2015-01-02</td>\n",
       "      <td>2545.55</td>\n",
       "      <td>2551.0</td>\n",
       "      <td>2590.95</td>\n",
       "      <td>2550.60</td>\n",
       "      <td>2588.40</td>\n",
       "      <td>2579.45</td>\n",
       "      <td>2568.19</td>\n",
       "      <td>462870</td>\n",
       "      <td>1.188740e+09</td>\n",
       "      <td>27585</td>\n",
       "      <td>309350</td>\n",
       "      <td>66.83</td>\n",
       "      <td>week4</td>\n",
       "    </tr>\n",
       "    <tr>\n",
       "      <th>2</th>\n",
       "      <td>TCS</td>\n",
       "      <td>EQ</td>\n",
       "      <td>2015-01-05</td>\n",
       "      <td>2579.45</td>\n",
       "      <td>2581.0</td>\n",
       "      <td>2599.90</td>\n",
       "      <td>2524.65</td>\n",
       "      <td>2538.10</td>\n",
       "      <td>2540.25</td>\n",
       "      <td>2563.94</td>\n",
       "      <td>877121</td>\n",
       "      <td>2.248886e+09</td>\n",
       "      <td>43234</td>\n",
       "      <td>456728</td>\n",
       "      <td>52.07</td>\n",
       "      <td>week4</td>\n",
       "    </tr>\n",
       "    <tr>\n",
       "      <th>3</th>\n",
       "      <td>TCS</td>\n",
       "      <td>EQ</td>\n",
       "      <td>2015-01-06</td>\n",
       "      <td>2540.25</td>\n",
       "      <td>2529.1</td>\n",
       "      <td>2529.10</td>\n",
       "      <td>2440.00</td>\n",
       "      <td>2450.05</td>\n",
       "      <td>2446.60</td>\n",
       "      <td>2466.90</td>\n",
       "      <td>1211892</td>\n",
       "      <td>2.989615e+09</td>\n",
       "      <td>84503</td>\n",
       "      <td>714306</td>\n",
       "      <td>58.94</td>\n",
       "      <td>week4</td>\n",
       "    </tr>\n",
       "    <tr>\n",
       "      <th>4</th>\n",
       "      <td>TCS</td>\n",
       "      <td>EQ</td>\n",
       "      <td>2015-01-07</td>\n",
       "      <td>2446.60</td>\n",
       "      <td>2470.0</td>\n",
       "      <td>2479.15</td>\n",
       "      <td>2407.45</td>\n",
       "      <td>2426.90</td>\n",
       "      <td>2417.70</td>\n",
       "      <td>2433.96</td>\n",
       "      <td>1318166</td>\n",
       "      <td>3.208362e+09</td>\n",
       "      <td>101741</td>\n",
       "      <td>886368</td>\n",
       "      <td>67.24</td>\n",
       "      <td>week4</td>\n",
       "    </tr>\n",
       "  </tbody>\n",
       "</table>\n",
       "</div>"
      ],
      "text/plain": [
       "  Symbol Series       Date  Prev Close  Open Price  High Price  Low Price  \\\n",
       "0    TCS     EQ 2015-01-01     2558.25      2567.0     2567.00    2541.00   \n",
       "1    TCS     EQ 2015-01-02     2545.55      2551.0     2590.95    2550.60   \n",
       "2    TCS     EQ 2015-01-05     2579.45      2581.0     2599.90    2524.65   \n",
       "3    TCS     EQ 2015-01-06     2540.25      2529.1     2529.10    2440.00   \n",
       "4    TCS     EQ 2015-01-07     2446.60      2470.0     2479.15    2407.45   \n",
       "\n",
       "   Last Price  Close Price  Average Price  Total Traded Quantity  \\\n",
       "0     2550.00      2545.55        2548.51                 183415   \n",
       "1     2588.40      2579.45        2568.19                 462870   \n",
       "2     2538.10      2540.25        2563.94                 877121   \n",
       "3     2450.05      2446.60        2466.90                1211892   \n",
       "4     2426.90      2417.70        2433.96                1318166   \n",
       "\n",
       "       Turnover  No. of Trades  Deliverable Qty  % Dly Qt to Traded Qty   week  \n",
       "0  4.674345e+08           8002            52870                   28.83  week4  \n",
       "1  1.188740e+09          27585           309350                   66.83  week4  \n",
       "2  2.248886e+09          43234           456728                   52.07  week4  \n",
       "3  2.989615e+09          84503           714306                   58.94  week4  \n",
       "4  3.208362e+09         101741           886368                   67.24  week4  "
      ]
     },
     "execution_count": 216,
     "metadata": {},
     "output_type": "execute_result"
    }
   ],
   "source": [
    "_tcs_infy.head(5)"
   ]
  },
  {
   "cell_type": "code",
   "execution_count": 217,
   "metadata": {
    "collapsed": true
   },
   "outputs": [],
   "source": [
    "_tcs_infy.to_csv('tcsinfyc.csv') # saving data to new csv file \n"
   ]
  },
  {
   "cell_type": "code",
   "execution_count": 218,
   "metadata": {
    "collapsed": false
   },
   "outputs": [],
   "source": [
    "_nifty[\"Date\"]= pd.to_datetime(_nifty[\"Date\"])"
   ]
  },
  {
   "cell_type": "code",
   "execution_count": 219,
   "metadata": {
    "collapsed": false
   },
   "outputs": [
    {
     "data": {
      "text/plain": [
       "dtype('<M8[ns]')"
      ]
     },
     "execution_count": 219,
     "metadata": {},
     "output_type": "execute_result"
    }
   ],
   "source": [
    "_nifty.Date.dtype  # Checking the data type"
   ]
  },
  {
   "cell_type": "code",
   "execution_count": 220,
   "metadata": {
    "collapsed": true
   },
   "outputs": [],
   "source": [
    "def strd(Date):\n",
    "        return datetime.date(pd.to_datetime(datetime.date(datetime.strptime(str(Date), '%Y-%m-%d')))) #Creating a function to change the data type"
   ]
  },
  {
   "cell_type": "code",
   "execution_count": 221,
   "metadata": {
    "collapsed": true
   },
   "outputs": [],
   "source": [
    "def weeks(Date):\n",
    "    #print(Date)\n",
    "    Date1 = strd(Date)\n",
    "    #print(Date1)\n",
    "    if Date1 <= strd('2015-1-28'):\n",
    "        return (\"week4\")\n",
    "    elif Date1 >strd('2015-1-28') and Date1  <= strd('2015-4-22'):\n",
    "        return (\"week16\")\n",
    "    elif Date1 > strd('2015-4-22') and Date1  <= strd('2015-7-15'):\n",
    "        return (\"week28\")\n",
    "    elif Date1 > strd('2015-7-15') and Date1 <= strd('2015-10-7'):\n",
    "        return (\"week40\")\n",
    "    elif Date1 > strd('2015-10-7') and Date1  <= strd('2015-12-31'):\n",
    "        return (\"week52\")\n",
    "    else:\n",
    "        pass # Creating function and applying condition as per "
   ]
  },
  {
   "cell_type": "code",
   "execution_count": 222,
   "metadata": {
    "collapsed": false
   },
   "outputs": [
    {
     "data": {
      "text/plain": [
       "datetime.date(2015, 1, 25)"
      ]
     },
     "execution_count": 222,
     "metadata": {},
     "output_type": "execute_result"
    }
   ],
   "source": [
    "strd('2015-1-25')"
   ]
  },
  {
   "cell_type": "code",
   "execution_count": 227,
   "metadata": {
    "collapsed": false
   },
   "outputs": [
    {
     "name": "stdout",
     "output_type": "stream",
     "text": [
      "248\n"
     ]
    }
   ],
   "source": [
    "week = []\n",
    "i = 1\n",
    "count = 0\n",
    "#rint(_tcs_infy.Date)\n",
    "while count < 248:\n",
    "    #rint(pd.to_datetime(_tcs_infy.Date[count]))\n",
    "    temp1=_nifty.Date[count]\n",
    "    #print (str.split(str(temp),' ')[0])\n",
    "    week.append(weeks(str.split(str(temp1),' ')[0]))\n",
    "    count += 1\n",
    "print(len(week))\n",
    "#print(week)"
   ]
  },
  {
   "cell_type": "code",
   "execution_count": 232,
   "metadata": {
    "collapsed": true
   },
   "outputs": [],
   "source": [
    "week = pd.DataFrame(week)"
   ]
  },
  {
   "cell_type": "code",
   "execution_count": 233,
   "metadata": {
    "collapsed": false
   },
   "outputs": [],
   "source": [
    "_nifty['week'] = week"
   ]
  },
  {
   "cell_type": "code",
   "execution_count": 234,
   "metadata": {
    "collapsed": false
   },
   "outputs": [
    {
     "data": {
      "text/html": [
       "<div>\n",
       "<table border=\"1\" class=\"dataframe\">\n",
       "  <thead>\n",
       "    <tr style=\"text-align: right;\">\n",
       "      <th></th>\n",
       "      <th>Date</th>\n",
       "      <th>Open</th>\n",
       "      <th>High</th>\n",
       "      <th>Low</th>\n",
       "      <th>Close</th>\n",
       "      <th>Shares Traded</th>\n",
       "      <th>Turnover (Rs. Cr)</th>\n",
       "      <th>week</th>\n",
       "    </tr>\n",
       "  </thead>\n",
       "  <tbody>\n",
       "    <tr>\n",
       "      <th>243</th>\n",
       "      <td>2015-12-24</td>\n",
       "      <td>11193.25</td>\n",
       "      <td>11197.50</td>\n",
       "      <td>11152.85</td>\n",
       "      <td>11184.90</td>\n",
       "      <td>2927864</td>\n",
       "      <td>318.27</td>\n",
       "      <td>week52</td>\n",
       "    </tr>\n",
       "    <tr>\n",
       "      <th>244</th>\n",
       "      <td>2015-12-28</td>\n",
       "      <td>11152.70</td>\n",
       "      <td>11303.05</td>\n",
       "      <td>11146.85</td>\n",
       "      <td>11271.80</td>\n",
       "      <td>8055590</td>\n",
       "      <td>1001.90</td>\n",
       "      <td>week52</td>\n",
       "    </tr>\n",
       "    <tr>\n",
       "      <th>245</th>\n",
       "      <td>2015-12-29</td>\n",
       "      <td>11257.05</td>\n",
       "      <td>11287.50</td>\n",
       "      <td>11206.60</td>\n",
       "      <td>11253.45</td>\n",
       "      <td>6024174</td>\n",
       "      <td>662.62</td>\n",
       "      <td>week52</td>\n",
       "    </tr>\n",
       "    <tr>\n",
       "      <th>246</th>\n",
       "      <td>2015-12-30</td>\n",
       "      <td>11247.35</td>\n",
       "      <td>11263.60</td>\n",
       "      <td>11100.10</td>\n",
       "      <td>11117.60</td>\n",
       "      <td>6564991</td>\n",
       "      <td>707.19</td>\n",
       "      <td>week52</td>\n",
       "    </tr>\n",
       "    <tr>\n",
       "      <th>247</th>\n",
       "      <td>2015-12-31</td>\n",
       "      <td>11113.00</td>\n",
       "      <td>11233.85</td>\n",
       "      <td>11113.00</td>\n",
       "      <td>11212.55</td>\n",
       "      <td>8197040</td>\n",
       "      <td>859.05</td>\n",
       "      <td>week52</td>\n",
       "    </tr>\n",
       "  </tbody>\n",
       "</table>\n",
       "</div>"
      ],
      "text/plain": [
       "          Date      Open      High       Low     Close  Shares Traded  \\\n",
       "243 2015-12-24  11193.25  11197.50  11152.85  11184.90        2927864   \n",
       "244 2015-12-28  11152.70  11303.05  11146.85  11271.80        8055590   \n",
       "245 2015-12-29  11257.05  11287.50  11206.60  11253.45        6024174   \n",
       "246 2015-12-30  11247.35  11263.60  11100.10  11117.60        6564991   \n",
       "247 2015-12-31  11113.00  11233.85  11113.00  11212.55        8197040   \n",
       "\n",
       "     Turnover (Rs. Cr)    week  \n",
       "243             318.27  week52  \n",
       "244            1001.90  week52  \n",
       "245             662.62  week52  \n",
       "246             707.19  week52  \n",
       "247             859.05  week52  "
      ]
     },
     "execution_count": 234,
     "metadata": {},
     "output_type": "execute_result"
    }
   ],
   "source": [
    "_nifty.tail()"
   ]
  },
  {
   "cell_type": "code",
   "execution_count": 237,
   "metadata": {
    "collapsed": false
   },
   "outputs": [],
   "source": [
    "_nifty.to_csv('nifty1.csv')"
   ]
  },
  {
   "cell_type": "code",
   "execution_count": 236,
   "metadata": {
    "collapsed": false
   },
   "outputs": [
    {
     "data": {
      "text/plain": [
       "Index(['Symbol', 'Series', 'Date', 'Prev Close', 'Open Price', 'High Price',\n",
       "       'Low Price', 'Last Price', 'Close Price', 'Average Price',\n",
       "       'Total Traded Quantity', 'Turnover', 'No. of Trades', 'Deliverable Qty',\n",
       "       '% Dly Qt to Traded Qty', 'week'],\n",
       "      dtype='object')"
      ]
     },
     "execution_count": 236,
     "metadata": {},
     "output_type": "execute_result"
    }
   ],
   "source": [
    "_tcs_infy.columns"
   ]
  },
  {
   "cell_type": "code",
   "execution_count": 238,
   "metadata": {
    "collapsed": false
   },
   "outputs": [
    {
     "data": {
      "text/html": [
       "<div>\n",
       "<table border=\"1\" class=\"dataframe\">\n",
       "  <thead>\n",
       "    <tr style=\"text-align: right;\">\n",
       "      <th></th>\n",
       "      <th>Symbol</th>\n",
       "      <th>Series</th>\n",
       "      <th>Date</th>\n",
       "      <th>Prev Close</th>\n",
       "      <th>Open Price</th>\n",
       "      <th>High Price</th>\n",
       "      <th>Low Price</th>\n",
       "      <th>Last Price</th>\n",
       "      <th>Close Price</th>\n",
       "      <th>Average Price</th>\n",
       "      <th>Total Traded Quantity</th>\n",
       "      <th>Turnover</th>\n",
       "      <th>No. of Trades</th>\n",
       "      <th>Deliverable Qty</th>\n",
       "      <th>% Dly Qt to Traded Qty</th>\n",
       "      <th>week</th>\n",
       "    </tr>\n",
       "  </thead>\n",
       "  <tbody>\n",
       "    <tr>\n",
       "      <th>0</th>\n",
       "      <td>TCS</td>\n",
       "      <td>EQ</td>\n",
       "      <td>2015-01-01</td>\n",
       "      <td>2558.25</td>\n",
       "      <td>2567.00</td>\n",
       "      <td>2567.00</td>\n",
       "      <td>2541.00</td>\n",
       "      <td>2550.00</td>\n",
       "      <td>2545.55</td>\n",
       "      <td>2548.51</td>\n",
       "      <td>183415</td>\n",
       "      <td>4.674345e+08</td>\n",
       "      <td>8002</td>\n",
       "      <td>52870</td>\n",
       "      <td>28.83</td>\n",
       "      <td>week4</td>\n",
       "    </tr>\n",
       "    <tr>\n",
       "      <th>1</th>\n",
       "      <td>TCS</td>\n",
       "      <td>EQ</td>\n",
       "      <td>2015-01-02</td>\n",
       "      <td>2545.55</td>\n",
       "      <td>2551.00</td>\n",
       "      <td>2590.95</td>\n",
       "      <td>2550.60</td>\n",
       "      <td>2588.40</td>\n",
       "      <td>2579.45</td>\n",
       "      <td>2568.19</td>\n",
       "      <td>462870</td>\n",
       "      <td>1.188740e+09</td>\n",
       "      <td>27585</td>\n",
       "      <td>309350</td>\n",
       "      <td>66.83</td>\n",
       "      <td>week4</td>\n",
       "    </tr>\n",
       "    <tr>\n",
       "      <th>2</th>\n",
       "      <td>TCS</td>\n",
       "      <td>EQ</td>\n",
       "      <td>2015-01-05</td>\n",
       "      <td>2579.45</td>\n",
       "      <td>2581.00</td>\n",
       "      <td>2599.90</td>\n",
       "      <td>2524.65</td>\n",
       "      <td>2538.10</td>\n",
       "      <td>2540.25</td>\n",
       "      <td>2563.94</td>\n",
       "      <td>877121</td>\n",
       "      <td>2.248886e+09</td>\n",
       "      <td>43234</td>\n",
       "      <td>456728</td>\n",
       "      <td>52.07</td>\n",
       "      <td>week4</td>\n",
       "    </tr>\n",
       "    <tr>\n",
       "      <th>3</th>\n",
       "      <td>TCS</td>\n",
       "      <td>EQ</td>\n",
       "      <td>2015-01-06</td>\n",
       "      <td>2540.25</td>\n",
       "      <td>2529.10</td>\n",
       "      <td>2529.10</td>\n",
       "      <td>2440.00</td>\n",
       "      <td>2450.05</td>\n",
       "      <td>2446.60</td>\n",
       "      <td>2466.90</td>\n",
       "      <td>1211892</td>\n",
       "      <td>2.989615e+09</td>\n",
       "      <td>84503</td>\n",
       "      <td>714306</td>\n",
       "      <td>58.94</td>\n",
       "      <td>week4</td>\n",
       "    </tr>\n",
       "    <tr>\n",
       "      <th>4</th>\n",
       "      <td>TCS</td>\n",
       "      <td>EQ</td>\n",
       "      <td>2015-01-07</td>\n",
       "      <td>2446.60</td>\n",
       "      <td>2470.00</td>\n",
       "      <td>2479.15</td>\n",
       "      <td>2407.45</td>\n",
       "      <td>2426.90</td>\n",
       "      <td>2417.70</td>\n",
       "      <td>2433.96</td>\n",
       "      <td>1318166</td>\n",
       "      <td>3.208362e+09</td>\n",
       "      <td>101741</td>\n",
       "      <td>886368</td>\n",
       "      <td>67.24</td>\n",
       "      <td>week4</td>\n",
       "    </tr>\n",
       "    <tr>\n",
       "      <th>5</th>\n",
       "      <td>TCS</td>\n",
       "      <td>EQ</td>\n",
       "      <td>2015-01-08</td>\n",
       "      <td>2417.70</td>\n",
       "      <td>2442.40</td>\n",
       "      <td>2449.00</td>\n",
       "      <td>2420.55</td>\n",
       "      <td>2446.00</td>\n",
       "      <td>2443.80</td>\n",
       "      <td>2434.81</td>\n",
       "      <td>782704</td>\n",
       "      <td>1.905739e+09</td>\n",
       "      <td>47699</td>\n",
       "      <td>450768</td>\n",
       "      <td>57.59</td>\n",
       "      <td>week4</td>\n",
       "    </tr>\n",
       "    <tr>\n",
       "      <th>6</th>\n",
       "      <td>TCS</td>\n",
       "      <td>EQ</td>\n",
       "      <td>2015-01-09</td>\n",
       "      <td>2443.80</td>\n",
       "      <td>2455.00</td>\n",
       "      <td>2519.90</td>\n",
       "      <td>2450.00</td>\n",
       "      <td>2510.00</td>\n",
       "      <td>2512.30</td>\n",
       "      <td>2490.01</td>\n",
       "      <td>1598821</td>\n",
       "      <td>3.981082e+09</td>\n",
       "      <td>81743</td>\n",
       "      <td>865777</td>\n",
       "      <td>54.15</td>\n",
       "      <td>week4</td>\n",
       "    </tr>\n",
       "    <tr>\n",
       "      <th>7</th>\n",
       "      <td>TCS</td>\n",
       "      <td>EQ</td>\n",
       "      <td>2015-01-12</td>\n",
       "      <td>2512.30</td>\n",
       "      <td>2517.00</td>\n",
       "      <td>2528.00</td>\n",
       "      <td>2480.25</td>\n",
       "      <td>2527.95</td>\n",
       "      <td>2509.70</td>\n",
       "      <td>2497.82</td>\n",
       "      <td>798003</td>\n",
       "      <td>1.993266e+09</td>\n",
       "      <td>58810</td>\n",
       "      <td>451228</td>\n",
       "      <td>56.54</td>\n",
       "      <td>week4</td>\n",
       "    </tr>\n",
       "    <tr>\n",
       "      <th>8</th>\n",
       "      <td>TCS</td>\n",
       "      <td>EQ</td>\n",
       "      <td>2015-01-13</td>\n",
       "      <td>2509.70</td>\n",
       "      <td>2520.00</td>\n",
       "      <td>2530.40</td>\n",
       "      <td>2480.10</td>\n",
       "      <td>2498.00</td>\n",
       "      <td>2497.90</td>\n",
       "      <td>2509.40</td>\n",
       "      <td>734216</td>\n",
       "      <td>1.842440e+09</td>\n",
       "      <td>49993</td>\n",
       "      <td>386133</td>\n",
       "      <td>52.59</td>\n",
       "      <td>week4</td>\n",
       "    </tr>\n",
       "    <tr>\n",
       "      <th>9</th>\n",
       "      <td>TCS</td>\n",
       "      <td>EQ</td>\n",
       "      <td>2015-01-14</td>\n",
       "      <td>2497.90</td>\n",
       "      <td>2516.00</td>\n",
       "      <td>2531.80</td>\n",
       "      <td>2500.50</td>\n",
       "      <td>2525.05</td>\n",
       "      <td>2521.95</td>\n",
       "      <td>2517.54</td>\n",
       "      <td>893548</td>\n",
       "      <td>2.249546e+09</td>\n",
       "      <td>69237</td>\n",
       "      <td>498193</td>\n",
       "      <td>55.75</td>\n",
       "      <td>week4</td>\n",
       "    </tr>\n",
       "    <tr>\n",
       "      <th>10</th>\n",
       "      <td>TCS</td>\n",
       "      <td>EQ</td>\n",
       "      <td>2015-01-15</td>\n",
       "      <td>2521.95</td>\n",
       "      <td>2533.00</td>\n",
       "      <td>2581.75</td>\n",
       "      <td>2523.25</td>\n",
       "      <td>2542.05</td>\n",
       "      <td>2539.10</td>\n",
       "      <td>2550.97</td>\n",
       "      <td>2504960</td>\n",
       "      <td>6.390076e+09</td>\n",
       "      <td>96363</td>\n",
       "      <td>1598846</td>\n",
       "      <td>63.83</td>\n",
       "      <td>week4</td>\n",
       "    </tr>\n",
       "    <tr>\n",
       "      <th>11</th>\n",
       "      <td>TCS</td>\n",
       "      <td>EQ</td>\n",
       "      <td>2015-01-16</td>\n",
       "      <td>2539.10</td>\n",
       "      <td>2543.70</td>\n",
       "      <td>2545.00</td>\n",
       "      <td>2484.30</td>\n",
       "      <td>2526.00</td>\n",
       "      <td>2532.15</td>\n",
       "      <td>2511.39</td>\n",
       "      <td>2646915</td>\n",
       "      <td>6.647444e+09</td>\n",
       "      <td>127847</td>\n",
       "      <td>1372200</td>\n",
       "      <td>51.84</td>\n",
       "      <td>week4</td>\n",
       "    </tr>\n",
       "    <tr>\n",
       "      <th>12</th>\n",
       "      <td>TCS</td>\n",
       "      <td>EQ</td>\n",
       "      <td>2015-01-19</td>\n",
       "      <td>2532.15</td>\n",
       "      <td>2536.00</td>\n",
       "      <td>2551.00</td>\n",
       "      <td>2503.00</td>\n",
       "      <td>2509.00</td>\n",
       "      <td>2511.00</td>\n",
       "      <td>2516.06</td>\n",
       "      <td>567537</td>\n",
       "      <td>1.427954e+09</td>\n",
       "      <td>38860</td>\n",
       "      <td>309156</td>\n",
       "      <td>54.47</td>\n",
       "      <td>week4</td>\n",
       "    </tr>\n",
       "    <tr>\n",
       "      <th>13</th>\n",
       "      <td>TCS</td>\n",
       "      <td>EQ</td>\n",
       "      <td>2015-01-20</td>\n",
       "      <td>2511.00</td>\n",
       "      <td>2520.00</td>\n",
       "      <td>2530.00</td>\n",
       "      <td>2483.25</td>\n",
       "      <td>2498.00</td>\n",
       "      <td>2500.45</td>\n",
       "      <td>2498.94</td>\n",
       "      <td>1029283</td>\n",
       "      <td>2.572121e+09</td>\n",
       "      <td>58066</td>\n",
       "      <td>733487</td>\n",
       "      <td>71.26</td>\n",
       "      <td>week4</td>\n",
       "    </tr>\n",
       "    <tr>\n",
       "      <th>14</th>\n",
       "      <td>TCS</td>\n",
       "      <td>EQ</td>\n",
       "      <td>2015-01-21</td>\n",
       "      <td>2500.45</td>\n",
       "      <td>2522.00</td>\n",
       "      <td>2522.00</td>\n",
       "      <td>2488.25</td>\n",
       "      <td>2518.00</td>\n",
       "      <td>2513.80</td>\n",
       "      <td>2507.75</td>\n",
       "      <td>1155240</td>\n",
       "      <td>2.897055e+09</td>\n",
       "      <td>75976</td>\n",
       "      <td>771316</td>\n",
       "      <td>66.77</td>\n",
       "      <td>week4</td>\n",
       "    </tr>\n",
       "    <tr>\n",
       "      <th>15</th>\n",
       "      <td>TCS</td>\n",
       "      <td>EQ</td>\n",
       "      <td>2015-01-22</td>\n",
       "      <td>2513.80</td>\n",
       "      <td>2516.50</td>\n",
       "      <td>2521.25</td>\n",
       "      <td>2495.50</td>\n",
       "      <td>2511.00</td>\n",
       "      <td>2513.55</td>\n",
       "      <td>2509.31</td>\n",
       "      <td>1056607</td>\n",
       "      <td>2.651355e+09</td>\n",
       "      <td>74837</td>\n",
       "      <td>742399</td>\n",
       "      <td>70.26</td>\n",
       "      <td>week4</td>\n",
       "    </tr>\n",
       "    <tr>\n",
       "      <th>16</th>\n",
       "      <td>TCS</td>\n",
       "      <td>EQ</td>\n",
       "      <td>2015-01-23</td>\n",
       "      <td>2513.55</td>\n",
       "      <td>2514.00</td>\n",
       "      <td>2532.05</td>\n",
       "      <td>2496.10</td>\n",
       "      <td>2504.10</td>\n",
       "      <td>2503.60</td>\n",
       "      <td>2507.34</td>\n",
       "      <td>1575190</td>\n",
       "      <td>3.949530e+09</td>\n",
       "      <td>94619</td>\n",
       "      <td>1205911</td>\n",
       "      <td>76.56</td>\n",
       "      <td>week4</td>\n",
       "    </tr>\n",
       "    <tr>\n",
       "      <th>17</th>\n",
       "      <td>TCS</td>\n",
       "      <td>EQ</td>\n",
       "      <td>2015-01-27</td>\n",
       "      <td>2503.60</td>\n",
       "      <td>2512.35</td>\n",
       "      <td>2515.00</td>\n",
       "      <td>2489.55</td>\n",
       "      <td>2504.20</td>\n",
       "      <td>2502.05</td>\n",
       "      <td>2502.26</td>\n",
       "      <td>1369368</td>\n",
       "      <td>3.426510e+09</td>\n",
       "      <td>71406</td>\n",
       "      <td>1079233</td>\n",
       "      <td>78.81</td>\n",
       "      <td>week4</td>\n",
       "    </tr>\n",
       "    <tr>\n",
       "      <th>18</th>\n",
       "      <td>TCS</td>\n",
       "      <td>EQ</td>\n",
       "      <td>2015-01-28</td>\n",
       "      <td>2502.05</td>\n",
       "      <td>2503.00</td>\n",
       "      <td>2544.90</td>\n",
       "      <td>2502.90</td>\n",
       "      <td>2533.40</td>\n",
       "      <td>2539.60</td>\n",
       "      <td>2529.32</td>\n",
       "      <td>1560990</td>\n",
       "      <td>3.948240e+09</td>\n",
       "      <td>101994</td>\n",
       "      <td>1142166</td>\n",
       "      <td>73.17</td>\n",
       "      <td>week4</td>\n",
       "    </tr>\n",
       "    <tr>\n",
       "      <th>19</th>\n",
       "      <td>TCS</td>\n",
       "      <td>EQ</td>\n",
       "      <td>2015-01-29</td>\n",
       "      <td>2539.60</td>\n",
       "      <td>2538.00</td>\n",
       "      <td>2568.70</td>\n",
       "      <td>2512.90</td>\n",
       "      <td>2560.70</td>\n",
       "      <td>2544.65</td>\n",
       "      <td>2531.88</td>\n",
       "      <td>1867196</td>\n",
       "      <td>4.727520e+09</td>\n",
       "      <td>67497</td>\n",
       "      <td>1547590</td>\n",
       "      <td>82.88</td>\n",
       "      <td>week16</td>\n",
       "    </tr>\n",
       "    <tr>\n",
       "      <th>20</th>\n",
       "      <td>TCS</td>\n",
       "      <td>EQ</td>\n",
       "      <td>2015-01-30</td>\n",
       "      <td>2544.65</td>\n",
       "      <td>2560.70</td>\n",
       "      <td>2575.00</td>\n",
       "      <td>2470.00</td>\n",
       "      <td>2484.00</td>\n",
       "      <td>2482.05</td>\n",
       "      <td>2494.94</td>\n",
       "      <td>2908701</td>\n",
       "      <td>7.257025e+09</td>\n",
       "      <td>119200</td>\n",
       "      <td>2355497</td>\n",
       "      <td>80.98</td>\n",
       "      <td>week16</td>\n",
       "    </tr>\n",
       "    <tr>\n",
       "      <th>21</th>\n",
       "      <td>TCS</td>\n",
       "      <td>EQ</td>\n",
       "      <td>2015-02-02</td>\n",
       "      <td>2482.05</td>\n",
       "      <td>2482.00</td>\n",
       "      <td>2521.45</td>\n",
       "      <td>2462.05</td>\n",
       "      <td>2516.00</td>\n",
       "      <td>2514.20</td>\n",
       "      <td>2500.60</td>\n",
       "      <td>1590901</td>\n",
       "      <td>3.978211e+09</td>\n",
       "      <td>89485</td>\n",
       "      <td>1171718</td>\n",
       "      <td>73.65</td>\n",
       "      <td>week16</td>\n",
       "    </tr>\n",
       "    <tr>\n",
       "      <th>22</th>\n",
       "      <td>TCS</td>\n",
       "      <td>EQ</td>\n",
       "      <td>2015-02-03</td>\n",
       "      <td>2514.20</td>\n",
       "      <td>2511.65</td>\n",
       "      <td>2565.00</td>\n",
       "      <td>2507.10</td>\n",
       "      <td>2552.25</td>\n",
       "      <td>2558.25</td>\n",
       "      <td>2536.23</td>\n",
       "      <td>1172527</td>\n",
       "      <td>2.973793e+09</td>\n",
       "      <td>75106</td>\n",
       "      <td>701449</td>\n",
       "      <td>59.82</td>\n",
       "      <td>week16</td>\n",
       "    </tr>\n",
       "    <tr>\n",
       "      <th>23</th>\n",
       "      <td>TCS</td>\n",
       "      <td>EQ</td>\n",
       "      <td>2015-02-04</td>\n",
       "      <td>2558.25</td>\n",
       "      <td>2568.00</td>\n",
       "      <td>2571.70</td>\n",
       "      <td>2502.10</td>\n",
       "      <td>2514.95</td>\n",
       "      <td>2514.30</td>\n",
       "      <td>2523.08</td>\n",
       "      <td>1122709</td>\n",
       "      <td>2.832687e+09</td>\n",
       "      <td>60615</td>\n",
       "      <td>807091</td>\n",
       "      <td>71.89</td>\n",
       "      <td>week16</td>\n",
       "    </tr>\n",
       "    <tr>\n",
       "      <th>24</th>\n",
       "      <td>TCS</td>\n",
       "      <td>EQ</td>\n",
       "      <td>2015-02-05</td>\n",
       "      <td>2514.30</td>\n",
       "      <td>2520.00</td>\n",
       "      <td>2591.70</td>\n",
       "      <td>2519.00</td>\n",
       "      <td>2553.00</td>\n",
       "      <td>2552.40</td>\n",
       "      <td>2558.13</td>\n",
       "      <td>2265084</td>\n",
       "      <td>5.794386e+09</td>\n",
       "      <td>77935</td>\n",
       "      <td>1638106</td>\n",
       "      <td>72.32</td>\n",
       "      <td>week16</td>\n",
       "    </tr>\n",
       "    <tr>\n",
       "      <th>25</th>\n",
       "      <td>TCS</td>\n",
       "      <td>EQ</td>\n",
       "      <td>2015-02-06</td>\n",
       "      <td>2552.40</td>\n",
       "      <td>2553.00</td>\n",
       "      <td>2594.80</td>\n",
       "      <td>2550.85</td>\n",
       "      <td>2576.10</td>\n",
       "      <td>2575.75</td>\n",
       "      <td>2578.40</td>\n",
       "      <td>1068208</td>\n",
       "      <td>2.754265e+09</td>\n",
       "      <td>82449</td>\n",
       "      <td>582019</td>\n",
       "      <td>54.49</td>\n",
       "      <td>week16</td>\n",
       "    </tr>\n",
       "    <tr>\n",
       "      <th>26</th>\n",
       "      <td>TCS</td>\n",
       "      <td>EQ</td>\n",
       "      <td>2015-02-09</td>\n",
       "      <td>2575.75</td>\n",
       "      <td>2561.50</td>\n",
       "      <td>2569.10</td>\n",
       "      <td>2500.00</td>\n",
       "      <td>2512.00</td>\n",
       "      <td>2512.90</td>\n",
       "      <td>2531.83</td>\n",
       "      <td>1038216</td>\n",
       "      <td>2.628585e+09</td>\n",
       "      <td>72967</td>\n",
       "      <td>695542</td>\n",
       "      <td>66.99</td>\n",
       "      <td>week16</td>\n",
       "    </tr>\n",
       "    <tr>\n",
       "      <th>27</th>\n",
       "      <td>TCS</td>\n",
       "      <td>EQ</td>\n",
       "      <td>2015-02-10</td>\n",
       "      <td>2512.90</td>\n",
       "      <td>2510.00</td>\n",
       "      <td>2526.25</td>\n",
       "      <td>2433.00</td>\n",
       "      <td>2445.50</td>\n",
       "      <td>2441.15</td>\n",
       "      <td>2473.88</td>\n",
       "      <td>1899527</td>\n",
       "      <td>4.699201e+09</td>\n",
       "      <td>114773</td>\n",
       "      <td>1383973</td>\n",
       "      <td>72.86</td>\n",
       "      <td>week16</td>\n",
       "    </tr>\n",
       "    <tr>\n",
       "      <th>28</th>\n",
       "      <td>TCS</td>\n",
       "      <td>EQ</td>\n",
       "      <td>2015-02-11</td>\n",
       "      <td>2441.15</td>\n",
       "      <td>2455.05</td>\n",
       "      <td>2487.25</td>\n",
       "      <td>2447.25</td>\n",
       "      <td>2460.00</td>\n",
       "      <td>2459.90</td>\n",
       "      <td>2468.94</td>\n",
       "      <td>1468761</td>\n",
       "      <td>3.626283e+09</td>\n",
       "      <td>115345</td>\n",
       "      <td>1143243</td>\n",
       "      <td>77.84</td>\n",
       "      <td>week16</td>\n",
       "    </tr>\n",
       "    <tr>\n",
       "      <th>29</th>\n",
       "      <td>TCS</td>\n",
       "      <td>EQ</td>\n",
       "      <td>2015-02-12</td>\n",
       "      <td>2459.90</td>\n",
       "      <td>2479.80</td>\n",
       "      <td>2479.80</td>\n",
       "      <td>2447.00</td>\n",
       "      <td>2469.00</td>\n",
       "      <td>2462.15</td>\n",
       "      <td>2462.56</td>\n",
       "      <td>1553990</td>\n",
       "      <td>3.826787e+09</td>\n",
       "      <td>113845</td>\n",
       "      <td>1269759</td>\n",
       "      <td>81.71</td>\n",
       "      <td>week16</td>\n",
       "    </tr>\n",
       "    <tr>\n",
       "      <th>...</th>\n",
       "      <td>...</td>\n",
       "      <td>...</td>\n",
       "      <td>...</td>\n",
       "      <td>...</td>\n",
       "      <td>...</td>\n",
       "      <td>...</td>\n",
       "      <td>...</td>\n",
       "      <td>...</td>\n",
       "      <td>...</td>\n",
       "      <td>...</td>\n",
       "      <td>...</td>\n",
       "      <td>...</td>\n",
       "      <td>...</td>\n",
       "      <td>...</td>\n",
       "      <td>...</td>\n",
       "      <td>...</td>\n",
       "    </tr>\n",
       "    <tr>\n",
       "      <th>468</th>\n",
       "      <td>INFY</td>\n",
       "      <td>EQ</td>\n",
       "      <td>2015-11-18</td>\n",
       "      <td>1061.50</td>\n",
       "      <td>1041.00</td>\n",
       "      <td>1045.15</td>\n",
       "      <td>1011.25</td>\n",
       "      <td>1020.45</td>\n",
       "      <td>1020.00</td>\n",
       "      <td>1027.76</td>\n",
       "      <td>5062626</td>\n",
       "      <td>5.203187e+09</td>\n",
       "      <td>163352</td>\n",
       "      <td>2860889</td>\n",
       "      <td>56.51</td>\n",
       "      <td>week52</td>\n",
       "    </tr>\n",
       "    <tr>\n",
       "      <th>469</th>\n",
       "      <td>INFY</td>\n",
       "      <td>EQ</td>\n",
       "      <td>2015-11-19</td>\n",
       "      <td>1020.00</td>\n",
       "      <td>1030.25</td>\n",
       "      <td>1052.00</td>\n",
       "      <td>1023.80</td>\n",
       "      <td>1048.00</td>\n",
       "      <td>1047.80</td>\n",
       "      <td>1038.56</td>\n",
       "      <td>4269811</td>\n",
       "      <td>4.434439e+09</td>\n",
       "      <td>169433</td>\n",
       "      <td>2638720</td>\n",
       "      <td>61.80</td>\n",
       "      <td>week52</td>\n",
       "    </tr>\n",
       "    <tr>\n",
       "      <th>470</th>\n",
       "      <td>INFY</td>\n",
       "      <td>EQ</td>\n",
       "      <td>2015-11-20</td>\n",
       "      <td>1047.80</td>\n",
       "      <td>1048.00</td>\n",
       "      <td>1063.20</td>\n",
       "      <td>1042.05</td>\n",
       "      <td>1051.00</td>\n",
       "      <td>1052.40</td>\n",
       "      <td>1053.83</td>\n",
       "      <td>3041489</td>\n",
       "      <td>3.205220e+09</td>\n",
       "      <td>151348</td>\n",
       "      <td>1851747</td>\n",
       "      <td>60.88</td>\n",
       "      <td>week52</td>\n",
       "    </tr>\n",
       "    <tr>\n",
       "      <th>471</th>\n",
       "      <td>INFY</td>\n",
       "      <td>EQ</td>\n",
       "      <td>2015-11-23</td>\n",
       "      <td>1052.40</td>\n",
       "      <td>1050.00</td>\n",
       "      <td>1062.40</td>\n",
       "      <td>1038.00</td>\n",
       "      <td>1052.00</td>\n",
       "      <td>1053.70</td>\n",
       "      <td>1053.76</td>\n",
       "      <td>2808175</td>\n",
       "      <td>2.959156e+09</td>\n",
       "      <td>90521</td>\n",
       "      <td>1799534</td>\n",
       "      <td>64.08</td>\n",
       "      <td>week52</td>\n",
       "    </tr>\n",
       "    <tr>\n",
       "      <th>472</th>\n",
       "      <td>INFY</td>\n",
       "      <td>EQ</td>\n",
       "      <td>2015-11-24</td>\n",
       "      <td>1053.70</td>\n",
       "      <td>1050.00</td>\n",
       "      <td>1050.80</td>\n",
       "      <td>1037.00</td>\n",
       "      <td>1040.70</td>\n",
       "      <td>1041.15</td>\n",
       "      <td>1043.40</td>\n",
       "      <td>2162901</td>\n",
       "      <td>2.256779e+09</td>\n",
       "      <td>58310</td>\n",
       "      <td>1249010</td>\n",
       "      <td>57.75</td>\n",
       "      <td>week52</td>\n",
       "    </tr>\n",
       "    <tr>\n",
       "      <th>473</th>\n",
       "      <td>INFY</td>\n",
       "      <td>EQ</td>\n",
       "      <td>2015-11-26</td>\n",
       "      <td>1041.15</td>\n",
       "      <td>1040.95</td>\n",
       "      <td>1059.50</td>\n",
       "      <td>1040.05</td>\n",
       "      <td>1050.00</td>\n",
       "      <td>1052.40</td>\n",
       "      <td>1051.79</td>\n",
       "      <td>4926984</td>\n",
       "      <td>5.182137e+09</td>\n",
       "      <td>114757</td>\n",
       "      <td>3656974</td>\n",
       "      <td>74.22</td>\n",
       "      <td>week52</td>\n",
       "    </tr>\n",
       "    <tr>\n",
       "      <th>474</th>\n",
       "      <td>INFY</td>\n",
       "      <td>EQ</td>\n",
       "      <td>2015-11-27</td>\n",
       "      <td>1052.40</td>\n",
       "      <td>1058.00</td>\n",
       "      <td>1070.00</td>\n",
       "      <td>1045.00</td>\n",
       "      <td>1066.00</td>\n",
       "      <td>1066.35</td>\n",
       "      <td>1060.99</td>\n",
       "      <td>2571239</td>\n",
       "      <td>2.728063e+09</td>\n",
       "      <td>69214</td>\n",
       "      <td>1799884</td>\n",
       "      <td>70.00</td>\n",
       "      <td>week52</td>\n",
       "    </tr>\n",
       "    <tr>\n",
       "      <th>475</th>\n",
       "      <td>INFY</td>\n",
       "      <td>EQ</td>\n",
       "      <td>2015-11-30</td>\n",
       "      <td>1066.35</td>\n",
       "      <td>1070.00</td>\n",
       "      <td>1098.30</td>\n",
       "      <td>1056.20</td>\n",
       "      <td>1083.05</td>\n",
       "      <td>1087.90</td>\n",
       "      <td>1083.44</td>\n",
       "      <td>9052767</td>\n",
       "      <td>9.808155e+09</td>\n",
       "      <td>108763</td>\n",
       "      <td>5565189</td>\n",
       "      <td>61.48</td>\n",
       "      <td>week52</td>\n",
       "    </tr>\n",
       "    <tr>\n",
       "      <th>476</th>\n",
       "      <td>INFY</td>\n",
       "      <td>EQ</td>\n",
       "      <td>2015-12-01</td>\n",
       "      <td>1087.90</td>\n",
       "      <td>1088.00</td>\n",
       "      <td>1095.00</td>\n",
       "      <td>1072.95</td>\n",
       "      <td>1075.45</td>\n",
       "      <td>1079.00</td>\n",
       "      <td>1082.42</td>\n",
       "      <td>2949275</td>\n",
       "      <td>3.192357e+09</td>\n",
       "      <td>76585</td>\n",
       "      <td>1982960</td>\n",
       "      <td>67.24</td>\n",
       "      <td>week52</td>\n",
       "    </tr>\n",
       "    <tr>\n",
       "      <th>477</th>\n",
       "      <td>INFY</td>\n",
       "      <td>EQ</td>\n",
       "      <td>2015-12-02</td>\n",
       "      <td>1079.00</td>\n",
       "      <td>1079.95</td>\n",
       "      <td>1079.95</td>\n",
       "      <td>1059.00</td>\n",
       "      <td>1061.10</td>\n",
       "      <td>1060.70</td>\n",
       "      <td>1064.12</td>\n",
       "      <td>3198808</td>\n",
       "      <td>3.403929e+09</td>\n",
       "      <td>90123</td>\n",
       "      <td>2139233</td>\n",
       "      <td>66.88</td>\n",
       "      <td>week52</td>\n",
       "    </tr>\n",
       "    <tr>\n",
       "      <th>478</th>\n",
       "      <td>INFY</td>\n",
       "      <td>EQ</td>\n",
       "      <td>2015-12-03</td>\n",
       "      <td>1060.70</td>\n",
       "      <td>1061.00</td>\n",
       "      <td>1064.80</td>\n",
       "      <td>1049.05</td>\n",
       "      <td>1059.00</td>\n",
       "      <td>1057.75</td>\n",
       "      <td>1056.77</td>\n",
       "      <td>2752363</td>\n",
       "      <td>2.908624e+09</td>\n",
       "      <td>110543</td>\n",
       "      <td>1838358</td>\n",
       "      <td>66.79</td>\n",
       "      <td>week52</td>\n",
       "    </tr>\n",
       "    <tr>\n",
       "      <th>479</th>\n",
       "      <td>INFY</td>\n",
       "      <td>EQ</td>\n",
       "      <td>2015-12-04</td>\n",
       "      <td>1057.75</td>\n",
       "      <td>1049.00</td>\n",
       "      <td>1064.90</td>\n",
       "      <td>1040.10</td>\n",
       "      <td>1048.85</td>\n",
       "      <td>1049.05</td>\n",
       "      <td>1047.32</td>\n",
       "      <td>4187765</td>\n",
       "      <td>4.385928e+09</td>\n",
       "      <td>209805</td>\n",
       "      <td>3031773</td>\n",
       "      <td>72.40</td>\n",
       "      <td>week52</td>\n",
       "    </tr>\n",
       "    <tr>\n",
       "      <th>480</th>\n",
       "      <td>INFY</td>\n",
       "      <td>EQ</td>\n",
       "      <td>2015-12-07</td>\n",
       "      <td>1049.05</td>\n",
       "      <td>1055.30</td>\n",
       "      <td>1059.00</td>\n",
       "      <td>1040.00</td>\n",
       "      <td>1046.00</td>\n",
       "      <td>1046.25</td>\n",
       "      <td>1048.08</td>\n",
       "      <td>2256935</td>\n",
       "      <td>2.365448e+09</td>\n",
       "      <td>65005</td>\n",
       "      <td>1441112</td>\n",
       "      <td>63.85</td>\n",
       "      <td>week52</td>\n",
       "    </tr>\n",
       "    <tr>\n",
       "      <th>481</th>\n",
       "      <td>INFY</td>\n",
       "      <td>EQ</td>\n",
       "      <td>2015-12-08</td>\n",
       "      <td>1046.25</td>\n",
       "      <td>1045.05</td>\n",
       "      <td>1062.75</td>\n",
       "      <td>1039.30</td>\n",
       "      <td>1042.00</td>\n",
       "      <td>1044.40</td>\n",
       "      <td>1051.88</td>\n",
       "      <td>2862186</td>\n",
       "      <td>3.010684e+09</td>\n",
       "      <td>87394</td>\n",
       "      <td>1790175</td>\n",
       "      <td>62.55</td>\n",
       "      <td>week52</td>\n",
       "    </tr>\n",
       "    <tr>\n",
       "      <th>482</th>\n",
       "      <td>INFY</td>\n",
       "      <td>EQ</td>\n",
       "      <td>2015-12-09</td>\n",
       "      <td>1044.40</td>\n",
       "      <td>1043.00</td>\n",
       "      <td>1046.95</td>\n",
       "      <td>1022.55</td>\n",
       "      <td>1024.00</td>\n",
       "      <td>1028.20</td>\n",
       "      <td>1036.19</td>\n",
       "      <td>3409127</td>\n",
       "      <td>3.532487e+09</td>\n",
       "      <td>85433</td>\n",
       "      <td>2068578</td>\n",
       "      <td>60.68</td>\n",
       "      <td>week52</td>\n",
       "    </tr>\n",
       "    <tr>\n",
       "      <th>483</th>\n",
       "      <td>INFY</td>\n",
       "      <td>EQ</td>\n",
       "      <td>2015-12-10</td>\n",
       "      <td>1028.20</td>\n",
       "      <td>1036.60</td>\n",
       "      <td>1051.60</td>\n",
       "      <td>1030.30</td>\n",
       "      <td>1049.90</td>\n",
       "      <td>1047.35</td>\n",
       "      <td>1040.47</td>\n",
       "      <td>2793873</td>\n",
       "      <td>2.906945e+09</td>\n",
       "      <td>80028</td>\n",
       "      <td>1838589</td>\n",
       "      <td>65.81</td>\n",
       "      <td>week52</td>\n",
       "    </tr>\n",
       "    <tr>\n",
       "      <th>484</th>\n",
       "      <td>INFY</td>\n",
       "      <td>EQ</td>\n",
       "      <td>2015-12-11</td>\n",
       "      <td>1047.35</td>\n",
       "      <td>1054.00</td>\n",
       "      <td>1061.90</td>\n",
       "      <td>1045.90</td>\n",
       "      <td>1055.65</td>\n",
       "      <td>1052.80</td>\n",
       "      <td>1052.88</td>\n",
       "      <td>2695099</td>\n",
       "      <td>2.837607e+09</td>\n",
       "      <td>84930</td>\n",
       "      <td>1623053</td>\n",
       "      <td>60.22</td>\n",
       "      <td>week52</td>\n",
       "    </tr>\n",
       "    <tr>\n",
       "      <th>485</th>\n",
       "      <td>INFY</td>\n",
       "      <td>EQ</td>\n",
       "      <td>2015-12-14</td>\n",
       "      <td>1052.80</td>\n",
       "      <td>1049.50</td>\n",
       "      <td>1073.15</td>\n",
       "      <td>1048.05</td>\n",
       "      <td>1067.50</td>\n",
       "      <td>1069.50</td>\n",
       "      <td>1066.30</td>\n",
       "      <td>2408336</td>\n",
       "      <td>2.568018e+09</td>\n",
       "      <td>104978</td>\n",
       "      <td>1419333</td>\n",
       "      <td>58.93</td>\n",
       "      <td>week52</td>\n",
       "    </tr>\n",
       "    <tr>\n",
       "      <th>486</th>\n",
       "      <td>INFY</td>\n",
       "      <td>EQ</td>\n",
       "      <td>2015-12-15</td>\n",
       "      <td>1069.50</td>\n",
       "      <td>1073.25</td>\n",
       "      <td>1079.10</td>\n",
       "      <td>1058.80</td>\n",
       "      <td>1078.50</td>\n",
       "      <td>1077.55</td>\n",
       "      <td>1071.44</td>\n",
       "      <td>2715904</td>\n",
       "      <td>2.909926e+09</td>\n",
       "      <td>76821</td>\n",
       "      <td>1951187</td>\n",
       "      <td>71.84</td>\n",
       "      <td>week52</td>\n",
       "    </tr>\n",
       "    <tr>\n",
       "      <th>487</th>\n",
       "      <td>INFY</td>\n",
       "      <td>EQ</td>\n",
       "      <td>2015-12-16</td>\n",
       "      <td>1077.55</td>\n",
       "      <td>1083.40</td>\n",
       "      <td>1098.00</td>\n",
       "      <td>1083.40</td>\n",
       "      <td>1094.00</td>\n",
       "      <td>1095.85</td>\n",
       "      <td>1092.86</td>\n",
       "      <td>2747926</td>\n",
       "      <td>3.003094e+09</td>\n",
       "      <td>66894</td>\n",
       "      <td>1988090</td>\n",
       "      <td>72.35</td>\n",
       "      <td>week52</td>\n",
       "    </tr>\n",
       "    <tr>\n",
       "      <th>488</th>\n",
       "      <td>INFY</td>\n",
       "      <td>EQ</td>\n",
       "      <td>2015-12-17</td>\n",
       "      <td>1095.85</td>\n",
       "      <td>1100.00</td>\n",
       "      <td>1109.80</td>\n",
       "      <td>1088.00</td>\n",
       "      <td>1105.50</td>\n",
       "      <td>1107.10</td>\n",
       "      <td>1099.83</td>\n",
       "      <td>2479391</td>\n",
       "      <td>2.726907e+09</td>\n",
       "      <td>87599</td>\n",
       "      <td>1294917</td>\n",
       "      <td>52.23</td>\n",
       "      <td>week52</td>\n",
       "    </tr>\n",
       "    <tr>\n",
       "      <th>489</th>\n",
       "      <td>INFY</td>\n",
       "      <td>EQ</td>\n",
       "      <td>2015-12-18</td>\n",
       "      <td>1107.10</td>\n",
       "      <td>1103.40</td>\n",
       "      <td>1103.40</td>\n",
       "      <td>1079.45</td>\n",
       "      <td>1085.95</td>\n",
       "      <td>1083.15</td>\n",
       "      <td>1086.91</td>\n",
       "      <td>3609910</td>\n",
       "      <td>3.923651e+09</td>\n",
       "      <td>65866</td>\n",
       "      <td>2604590</td>\n",
       "      <td>72.15</td>\n",
       "      <td>week52</td>\n",
       "    </tr>\n",
       "    <tr>\n",
       "      <th>490</th>\n",
       "      <td>INFY</td>\n",
       "      <td>EQ</td>\n",
       "      <td>2015-12-21</td>\n",
       "      <td>1083.15</td>\n",
       "      <td>1077.00</td>\n",
       "      <td>1107.40</td>\n",
       "      <td>1065.95</td>\n",
       "      <td>1107.00</td>\n",
       "      <td>1103.45</td>\n",
       "      <td>1095.68</td>\n",
       "      <td>2165506</td>\n",
       "      <td>2.372707e+09</td>\n",
       "      <td>61692</td>\n",
       "      <td>1223571</td>\n",
       "      <td>56.50</td>\n",
       "      <td>week52</td>\n",
       "    </tr>\n",
       "    <tr>\n",
       "      <th>491</th>\n",
       "      <td>INFY</td>\n",
       "      <td>EQ</td>\n",
       "      <td>2015-12-22</td>\n",
       "      <td>1103.45</td>\n",
       "      <td>1097.45</td>\n",
       "      <td>1097.45</td>\n",
       "      <td>1080.10</td>\n",
       "      <td>1085.00</td>\n",
       "      <td>1083.75</td>\n",
       "      <td>1085.81</td>\n",
       "      <td>2054627</td>\n",
       "      <td>2.230939e+09</td>\n",
       "      <td>51963</td>\n",
       "      <td>1204818</td>\n",
       "      <td>58.64</td>\n",
       "      <td>week52</td>\n",
       "    </tr>\n",
       "    <tr>\n",
       "      <th>492</th>\n",
       "      <td>INFY</td>\n",
       "      <td>EQ</td>\n",
       "      <td>2015-12-23</td>\n",
       "      <td>1083.75</td>\n",
       "      <td>1095.05</td>\n",
       "      <td>1102.50</td>\n",
       "      <td>1087.05</td>\n",
       "      <td>1100.00</td>\n",
       "      <td>1100.85</td>\n",
       "      <td>1097.35</td>\n",
       "      <td>1435464</td>\n",
       "      <td>1.575200e+09</td>\n",
       "      <td>38571</td>\n",
       "      <td>861318</td>\n",
       "      <td>60.00</td>\n",
       "      <td>week52</td>\n",
       "    </tr>\n",
       "    <tr>\n",
       "      <th>493</th>\n",
       "      <td>INFY</td>\n",
       "      <td>EQ</td>\n",
       "      <td>2015-12-24</td>\n",
       "      <td>1100.85</td>\n",
       "      <td>1102.05</td>\n",
       "      <td>1104.45</td>\n",
       "      <td>1090.10</td>\n",
       "      <td>1095.80</td>\n",
       "      <td>1096.35</td>\n",
       "      <td>1095.84</td>\n",
       "      <td>615027</td>\n",
       "      <td>6.739696e+08</td>\n",
       "      <td>20528</td>\n",
       "      <td>294731</td>\n",
       "      <td>47.92</td>\n",
       "      <td>week52</td>\n",
       "    </tr>\n",
       "    <tr>\n",
       "      <th>494</th>\n",
       "      <td>INFY</td>\n",
       "      <td>EQ</td>\n",
       "      <td>2015-12-28</td>\n",
       "      <td>1096.35</td>\n",
       "      <td>1090.00</td>\n",
       "      <td>1110.00</td>\n",
       "      <td>1090.00</td>\n",
       "      <td>1103.80</td>\n",
       "      <td>1104.75</td>\n",
       "      <td>1105.51</td>\n",
       "      <td>2763476</td>\n",
       "      <td>3.055046e+09</td>\n",
       "      <td>51103</td>\n",
       "      <td>1880078</td>\n",
       "      <td>68.03</td>\n",
       "      <td>week52</td>\n",
       "    </tr>\n",
       "    <tr>\n",
       "      <th>495</th>\n",
       "      <td>INFY</td>\n",
       "      <td>EQ</td>\n",
       "      <td>2015-12-29</td>\n",
       "      <td>1104.75</td>\n",
       "      <td>1101.25</td>\n",
       "      <td>1110.00</td>\n",
       "      <td>1097.30</td>\n",
       "      <td>1103.00</td>\n",
       "      <td>1104.70</td>\n",
       "      <td>1104.14</td>\n",
       "      <td>1672531</td>\n",
       "      <td>1.846706e+09</td>\n",
       "      <td>52409</td>\n",
       "      <td>967577</td>\n",
       "      <td>57.85</td>\n",
       "      <td>week52</td>\n",
       "    </tr>\n",
       "    <tr>\n",
       "      <th>496</th>\n",
       "      <td>INFY</td>\n",
       "      <td>EQ</td>\n",
       "      <td>2015-12-30</td>\n",
       "      <td>1104.70</td>\n",
       "      <td>1101.10</td>\n",
       "      <td>1106.60</td>\n",
       "      <td>1083.00</td>\n",
       "      <td>1088.00</td>\n",
       "      <td>1086.30</td>\n",
       "      <td>1094.45</td>\n",
       "      <td>2576985</td>\n",
       "      <td>2.820380e+09</td>\n",
       "      <td>65379</td>\n",
       "      <td>1754378</td>\n",
       "      <td>68.08</td>\n",
       "      <td>week52</td>\n",
       "    </tr>\n",
       "    <tr>\n",
       "      <th>497</th>\n",
       "      <td>INFY</td>\n",
       "      <td>EQ</td>\n",
       "      <td>2015-12-31</td>\n",
       "      <td>1086.30</td>\n",
       "      <td>1090.15</td>\n",
       "      <td>1109.95</td>\n",
       "      <td>1087.00</td>\n",
       "      <td>1107.00</td>\n",
       "      <td>1105.40</td>\n",
       "      <td>1102.09</td>\n",
       "      <td>3971969</td>\n",
       "      <td>4.377467e+09</td>\n",
       "      <td>75143</td>\n",
       "      <td>2641827</td>\n",
       "      <td>66.51</td>\n",
       "      <td>week52</td>\n",
       "    </tr>\n",
       "  </tbody>\n",
       "</table>\n",
       "<p>498 rows × 16 columns</p>\n",
       "</div>"
      ],
      "text/plain": [
       "    Symbol Series       Date  Prev Close  Open Price  High Price  Low Price  \\\n",
       "0      TCS     EQ 2015-01-01     2558.25     2567.00     2567.00    2541.00   \n",
       "1      TCS     EQ 2015-01-02     2545.55     2551.00     2590.95    2550.60   \n",
       "2      TCS     EQ 2015-01-05     2579.45     2581.00     2599.90    2524.65   \n",
       "3      TCS     EQ 2015-01-06     2540.25     2529.10     2529.10    2440.00   \n",
       "4      TCS     EQ 2015-01-07     2446.60     2470.00     2479.15    2407.45   \n",
       "5      TCS     EQ 2015-01-08     2417.70     2442.40     2449.00    2420.55   \n",
       "6      TCS     EQ 2015-01-09     2443.80     2455.00     2519.90    2450.00   \n",
       "7      TCS     EQ 2015-01-12     2512.30     2517.00     2528.00    2480.25   \n",
       "8      TCS     EQ 2015-01-13     2509.70     2520.00     2530.40    2480.10   \n",
       "9      TCS     EQ 2015-01-14     2497.90     2516.00     2531.80    2500.50   \n",
       "10     TCS     EQ 2015-01-15     2521.95     2533.00     2581.75    2523.25   \n",
       "11     TCS     EQ 2015-01-16     2539.10     2543.70     2545.00    2484.30   \n",
       "12     TCS     EQ 2015-01-19     2532.15     2536.00     2551.00    2503.00   \n",
       "13     TCS     EQ 2015-01-20     2511.00     2520.00     2530.00    2483.25   \n",
       "14     TCS     EQ 2015-01-21     2500.45     2522.00     2522.00    2488.25   \n",
       "15     TCS     EQ 2015-01-22     2513.80     2516.50     2521.25    2495.50   \n",
       "16     TCS     EQ 2015-01-23     2513.55     2514.00     2532.05    2496.10   \n",
       "17     TCS     EQ 2015-01-27     2503.60     2512.35     2515.00    2489.55   \n",
       "18     TCS     EQ 2015-01-28     2502.05     2503.00     2544.90    2502.90   \n",
       "19     TCS     EQ 2015-01-29     2539.60     2538.00     2568.70    2512.90   \n",
       "20     TCS     EQ 2015-01-30     2544.65     2560.70     2575.00    2470.00   \n",
       "21     TCS     EQ 2015-02-02     2482.05     2482.00     2521.45    2462.05   \n",
       "22     TCS     EQ 2015-02-03     2514.20     2511.65     2565.00    2507.10   \n",
       "23     TCS     EQ 2015-02-04     2558.25     2568.00     2571.70    2502.10   \n",
       "24     TCS     EQ 2015-02-05     2514.30     2520.00     2591.70    2519.00   \n",
       "25     TCS     EQ 2015-02-06     2552.40     2553.00     2594.80    2550.85   \n",
       "26     TCS     EQ 2015-02-09     2575.75     2561.50     2569.10    2500.00   \n",
       "27     TCS     EQ 2015-02-10     2512.90     2510.00     2526.25    2433.00   \n",
       "28     TCS     EQ 2015-02-11     2441.15     2455.05     2487.25    2447.25   \n",
       "29     TCS     EQ 2015-02-12     2459.90     2479.80     2479.80    2447.00   \n",
       "..     ...    ...        ...         ...         ...         ...        ...   \n",
       "468   INFY     EQ 2015-11-18     1061.50     1041.00     1045.15    1011.25   \n",
       "469   INFY     EQ 2015-11-19     1020.00     1030.25     1052.00    1023.80   \n",
       "470   INFY     EQ 2015-11-20     1047.80     1048.00     1063.20    1042.05   \n",
       "471   INFY     EQ 2015-11-23     1052.40     1050.00     1062.40    1038.00   \n",
       "472   INFY     EQ 2015-11-24     1053.70     1050.00     1050.80    1037.00   \n",
       "473   INFY     EQ 2015-11-26     1041.15     1040.95     1059.50    1040.05   \n",
       "474   INFY     EQ 2015-11-27     1052.40     1058.00     1070.00    1045.00   \n",
       "475   INFY     EQ 2015-11-30     1066.35     1070.00     1098.30    1056.20   \n",
       "476   INFY     EQ 2015-12-01     1087.90     1088.00     1095.00    1072.95   \n",
       "477   INFY     EQ 2015-12-02     1079.00     1079.95     1079.95    1059.00   \n",
       "478   INFY     EQ 2015-12-03     1060.70     1061.00     1064.80    1049.05   \n",
       "479   INFY     EQ 2015-12-04     1057.75     1049.00     1064.90    1040.10   \n",
       "480   INFY     EQ 2015-12-07     1049.05     1055.30     1059.00    1040.00   \n",
       "481   INFY     EQ 2015-12-08     1046.25     1045.05     1062.75    1039.30   \n",
       "482   INFY     EQ 2015-12-09     1044.40     1043.00     1046.95    1022.55   \n",
       "483   INFY     EQ 2015-12-10     1028.20     1036.60     1051.60    1030.30   \n",
       "484   INFY     EQ 2015-12-11     1047.35     1054.00     1061.90    1045.90   \n",
       "485   INFY     EQ 2015-12-14     1052.80     1049.50     1073.15    1048.05   \n",
       "486   INFY     EQ 2015-12-15     1069.50     1073.25     1079.10    1058.80   \n",
       "487   INFY     EQ 2015-12-16     1077.55     1083.40     1098.00    1083.40   \n",
       "488   INFY     EQ 2015-12-17     1095.85     1100.00     1109.80    1088.00   \n",
       "489   INFY     EQ 2015-12-18     1107.10     1103.40     1103.40    1079.45   \n",
       "490   INFY     EQ 2015-12-21     1083.15     1077.00     1107.40    1065.95   \n",
       "491   INFY     EQ 2015-12-22     1103.45     1097.45     1097.45    1080.10   \n",
       "492   INFY     EQ 2015-12-23     1083.75     1095.05     1102.50    1087.05   \n",
       "493   INFY     EQ 2015-12-24     1100.85     1102.05     1104.45    1090.10   \n",
       "494   INFY     EQ 2015-12-28     1096.35     1090.00     1110.00    1090.00   \n",
       "495   INFY     EQ 2015-12-29     1104.75     1101.25     1110.00    1097.30   \n",
       "496   INFY     EQ 2015-12-30     1104.70     1101.10     1106.60    1083.00   \n",
       "497   INFY     EQ 2015-12-31     1086.30     1090.15     1109.95    1087.00   \n",
       "\n",
       "     Last Price  Close Price  Average Price  Total Traded Quantity  \\\n",
       "0       2550.00      2545.55        2548.51                 183415   \n",
       "1       2588.40      2579.45        2568.19                 462870   \n",
       "2       2538.10      2540.25        2563.94                 877121   \n",
       "3       2450.05      2446.60        2466.90                1211892   \n",
       "4       2426.90      2417.70        2433.96                1318166   \n",
       "5       2446.00      2443.80        2434.81                 782704   \n",
       "6       2510.00      2512.30        2490.01                1598821   \n",
       "7       2527.95      2509.70        2497.82                 798003   \n",
       "8       2498.00      2497.90        2509.40                 734216   \n",
       "9       2525.05      2521.95        2517.54                 893548   \n",
       "10      2542.05      2539.10        2550.97                2504960   \n",
       "11      2526.00      2532.15        2511.39                2646915   \n",
       "12      2509.00      2511.00        2516.06                 567537   \n",
       "13      2498.00      2500.45        2498.94                1029283   \n",
       "14      2518.00      2513.80        2507.75                1155240   \n",
       "15      2511.00      2513.55        2509.31                1056607   \n",
       "16      2504.10      2503.60        2507.34                1575190   \n",
       "17      2504.20      2502.05        2502.26                1369368   \n",
       "18      2533.40      2539.60        2529.32                1560990   \n",
       "19      2560.70      2544.65        2531.88                1867196   \n",
       "20      2484.00      2482.05        2494.94                2908701   \n",
       "21      2516.00      2514.20        2500.60                1590901   \n",
       "22      2552.25      2558.25        2536.23                1172527   \n",
       "23      2514.95      2514.30        2523.08                1122709   \n",
       "24      2553.00      2552.40        2558.13                2265084   \n",
       "25      2576.10      2575.75        2578.40                1068208   \n",
       "26      2512.00      2512.90        2531.83                1038216   \n",
       "27      2445.50      2441.15        2473.88                1899527   \n",
       "28      2460.00      2459.90        2468.94                1468761   \n",
       "29      2469.00      2462.15        2462.56                1553990   \n",
       "..          ...          ...            ...                    ...   \n",
       "468     1020.45      1020.00        1027.76                5062626   \n",
       "469     1048.00      1047.80        1038.56                4269811   \n",
       "470     1051.00      1052.40        1053.83                3041489   \n",
       "471     1052.00      1053.70        1053.76                2808175   \n",
       "472     1040.70      1041.15        1043.40                2162901   \n",
       "473     1050.00      1052.40        1051.79                4926984   \n",
       "474     1066.00      1066.35        1060.99                2571239   \n",
       "475     1083.05      1087.90        1083.44                9052767   \n",
       "476     1075.45      1079.00        1082.42                2949275   \n",
       "477     1061.10      1060.70        1064.12                3198808   \n",
       "478     1059.00      1057.75        1056.77                2752363   \n",
       "479     1048.85      1049.05        1047.32                4187765   \n",
       "480     1046.00      1046.25        1048.08                2256935   \n",
       "481     1042.00      1044.40        1051.88                2862186   \n",
       "482     1024.00      1028.20        1036.19                3409127   \n",
       "483     1049.90      1047.35        1040.47                2793873   \n",
       "484     1055.65      1052.80        1052.88                2695099   \n",
       "485     1067.50      1069.50        1066.30                2408336   \n",
       "486     1078.50      1077.55        1071.44                2715904   \n",
       "487     1094.00      1095.85        1092.86                2747926   \n",
       "488     1105.50      1107.10        1099.83                2479391   \n",
       "489     1085.95      1083.15        1086.91                3609910   \n",
       "490     1107.00      1103.45        1095.68                2165506   \n",
       "491     1085.00      1083.75        1085.81                2054627   \n",
       "492     1100.00      1100.85        1097.35                1435464   \n",
       "493     1095.80      1096.35        1095.84                 615027   \n",
       "494     1103.80      1104.75        1105.51                2763476   \n",
       "495     1103.00      1104.70        1104.14                1672531   \n",
       "496     1088.00      1086.30        1094.45                2576985   \n",
       "497     1107.00      1105.40        1102.09                3971969   \n",
       "\n",
       "         Turnover  No. of Trades  Deliverable Qty  % Dly Qt to Traded Qty  \\\n",
       "0    4.674345e+08           8002            52870                   28.83   \n",
       "1    1.188740e+09          27585           309350                   66.83   \n",
       "2    2.248886e+09          43234           456728                   52.07   \n",
       "3    2.989615e+09          84503           714306                   58.94   \n",
       "4    3.208362e+09         101741           886368                   67.24   \n",
       "5    1.905739e+09          47699           450768                   57.59   \n",
       "6    3.981082e+09          81743           865777                   54.15   \n",
       "7    1.993266e+09          58810           451228                   56.54   \n",
       "8    1.842440e+09          49993           386133                   52.59   \n",
       "9    2.249546e+09          69237           498193                   55.75   \n",
       "10   6.390076e+09          96363          1598846                   63.83   \n",
       "11   6.647444e+09         127847          1372200                   51.84   \n",
       "12   1.427954e+09          38860           309156                   54.47   \n",
       "13   2.572121e+09          58066           733487                   71.26   \n",
       "14   2.897055e+09          75976           771316                   66.77   \n",
       "15   2.651355e+09          74837           742399                   70.26   \n",
       "16   3.949530e+09          94619          1205911                   76.56   \n",
       "17   3.426510e+09          71406          1079233                   78.81   \n",
       "18   3.948240e+09         101994          1142166                   73.17   \n",
       "19   4.727520e+09          67497          1547590                   82.88   \n",
       "20   7.257025e+09         119200          2355497                   80.98   \n",
       "21   3.978211e+09          89485          1171718                   73.65   \n",
       "22   2.973793e+09          75106           701449                   59.82   \n",
       "23   2.832687e+09          60615           807091                   71.89   \n",
       "24   5.794386e+09          77935          1638106                   72.32   \n",
       "25   2.754265e+09          82449           582019                   54.49   \n",
       "26   2.628585e+09          72967           695542                   66.99   \n",
       "27   4.699201e+09         114773          1383973                   72.86   \n",
       "28   3.626283e+09         115345          1143243                   77.84   \n",
       "29   3.826787e+09         113845          1269759                   81.71   \n",
       "..            ...            ...              ...                     ...   \n",
       "468  5.203187e+09         163352          2860889                   56.51   \n",
       "469  4.434439e+09         169433          2638720                   61.80   \n",
       "470  3.205220e+09         151348          1851747                   60.88   \n",
       "471  2.959156e+09          90521          1799534                   64.08   \n",
       "472  2.256779e+09          58310          1249010                   57.75   \n",
       "473  5.182137e+09         114757          3656974                   74.22   \n",
       "474  2.728063e+09          69214          1799884                   70.00   \n",
       "475  9.808155e+09         108763          5565189                   61.48   \n",
       "476  3.192357e+09          76585          1982960                   67.24   \n",
       "477  3.403929e+09          90123          2139233                   66.88   \n",
       "478  2.908624e+09         110543          1838358                   66.79   \n",
       "479  4.385928e+09         209805          3031773                   72.40   \n",
       "480  2.365448e+09          65005          1441112                   63.85   \n",
       "481  3.010684e+09          87394          1790175                   62.55   \n",
       "482  3.532487e+09          85433          2068578                   60.68   \n",
       "483  2.906945e+09          80028          1838589                   65.81   \n",
       "484  2.837607e+09          84930          1623053                   60.22   \n",
       "485  2.568018e+09         104978          1419333                   58.93   \n",
       "486  2.909926e+09          76821          1951187                   71.84   \n",
       "487  3.003094e+09          66894          1988090                   72.35   \n",
       "488  2.726907e+09          87599          1294917                   52.23   \n",
       "489  3.923651e+09          65866          2604590                   72.15   \n",
       "490  2.372707e+09          61692          1223571                   56.50   \n",
       "491  2.230939e+09          51963          1204818                   58.64   \n",
       "492  1.575200e+09          38571           861318                   60.00   \n",
       "493  6.739696e+08          20528           294731                   47.92   \n",
       "494  3.055046e+09          51103          1880078                   68.03   \n",
       "495  1.846706e+09          52409           967577                   57.85   \n",
       "496  2.820380e+09          65379          1754378                   68.08   \n",
       "497  4.377467e+09          75143          2641827                   66.51   \n",
       "\n",
       "       week  \n",
       "0     week4  \n",
       "1     week4  \n",
       "2     week4  \n",
       "3     week4  \n",
       "4     week4  \n",
       "5     week4  \n",
       "6     week4  \n",
       "7     week4  \n",
       "8     week4  \n",
       "9     week4  \n",
       "10    week4  \n",
       "11    week4  \n",
       "12    week4  \n",
       "13    week4  \n",
       "14    week4  \n",
       "15    week4  \n",
       "16    week4  \n",
       "17    week4  \n",
       "18    week4  \n",
       "19   week16  \n",
       "20   week16  \n",
       "21   week16  \n",
       "22   week16  \n",
       "23   week16  \n",
       "24   week16  \n",
       "25   week16  \n",
       "26   week16  \n",
       "27   week16  \n",
       "28   week16  \n",
       "29   week16  \n",
       "..      ...  \n",
       "468  week52  \n",
       "469  week52  \n",
       "470  week52  \n",
       "471  week52  \n",
       "472  week52  \n",
       "473  week52  \n",
       "474  week52  \n",
       "475  week52  \n",
       "476  week52  \n",
       "477  week52  \n",
       "478  week52  \n",
       "479  week52  \n",
       "480  week52  \n",
       "481  week52  \n",
       "482  week52  \n",
       "483  week52  \n",
       "484  week52  \n",
       "485  week52  \n",
       "486  week52  \n",
       "487  week52  \n",
       "488  week52  \n",
       "489  week52  \n",
       "490  week52  \n",
       "491  week52  \n",
       "492  week52  \n",
       "493  week52  \n",
       "494  week52  \n",
       "495  week52  \n",
       "496  week52  \n",
       "497  week52  \n",
       "\n",
       "[498 rows x 16 columns]"
      ]
     },
     "execution_count": 238,
     "metadata": {},
     "output_type": "execute_result"
    }
   ],
   "source": [
    "_tcs_infy"
   ]
  },
  {
   "cell_type": "markdown",
   "metadata": {},
   "source": [
    "### TCS & INFY [Moving Averages]"
   ]
  },
  {
   "cell_type": "code",
   "execution_count": 30,
   "metadata": {
    "collapsed": true
   },
   "outputs": [],
   "source": [
    "mov_avr_tcs_week4 = _tcs_infy[(_tcs_infy[\"Date\"]<= '2015-1-28') & (_tcs_infy[\"Symbol\"]==\"TCS\")][\"Close Price\"].mean()\n",
    "mov_avr_infy_week4= _tcs_infy[(_tcs_infy[\"Date\"]<= '2015-1-28') & (_tcs_infy[\"Symbol\"]==\"INFY\")][\"Close Price\"].mean()    \n",
    "mov_avr_tcs_week16= _tcs_infy[(_tcs_infy[\"Date\"] >'2015-1-28') & (_tcs_infy[\"Date\"]<= '2015-4-22') & (_tcs_infy[\"Symbol\"]==\"TCS\")][\"Close Price\"].mean()\n",
    "mov_avr_infy_week16=_tcs_infy[(_tcs_infy[\"Date\"] >'2015-1-28') & (_tcs_infy[\"Date\"]<= '2015-4-22') & (_tcs_infy[\"Symbol\"]==\"INFY\")][\"Close Price\"].mean()\n",
    "mov_avr_tcs_week28=_tcs_infy[(_tcs_infy[\"Date\"] >'2015-4-22') & (_tcs_infy[\"Date\"]<= '2015-7-15') & (_tcs_infy[\"Symbol\"]==\"TCS\")][\"Close Price\"].mean()\n",
    "mov_avr_infy_week28=_tcs_infy[(_tcs_infy[\"Date\"] >'2015-4-22') & (_tcs_infy[\"Date\"]<= '2015-7-15') & (_tcs_infy[\"Symbol\"]==\"INFY\")][\"Close Price\"].mean()\n",
    "mov_avr_tcs_week40=_tcs_infy[(_tcs_infy[\"Date\"] >'2015-7-15') & (_tcs_infy[\"Date\"]<= '2015-10-7') & (_tcs_infy[\"Symbol\"]==\"TCS\")][\"Close Price\"].mean()\n",
    "mov_avr_infy_week40=_tcs_infy[(_tcs_infy[\"Date\"] >'2015-7-15') & (_tcs_infy[\"Date\"]<= '2015-10-7') & (_tcs_infy[\"Symbol\"]==\"INFY\")][\"Close Price\"].mean()\n",
    "mov_avr_tcs_week52=_tcs_infy[(_tcs_infy[\"Date\"] >'2015-10-7') & (_tcs_infy[\"Date\"]<= '2015-12-31') & (_tcs_infy[\"Symbol\"]==\"TCS\")][\"Close Price\"].mean()\n",
    "mov_avr_infy_week52=_tcs_infy[(_tcs_infy[\"Date\"] >'2015-10-7') & (_tcs_infy[\"Date\"]<= '2015-12-31') & (_tcs_infy[\"Symbol\"]==\"INFY\")][\"Close Price\"].mean()"
   ]
  },
  {
   "cell_type": "code",
   "execution_count": 31,
   "metadata": {
    "collapsed": false
   },
   "outputs": [
    {
     "name": "stdout",
     "output_type": "stream",
     "text": [
      "2508.9736842105267\n",
      "2085.4921052631585\n",
      "2587.566071428571\n",
      "2224.9133928571423\n",
      "2550.4389830508476\n",
      "1610.4116666666669\n",
      "2578.9991379310345\n",
      "1100.8456140350877\n",
      "2444.319298245614\n",
      "1095.478947368421\n"
     ]
    }
   ],
   "source": [
    "#Moving average\n",
    "print(mov_avr_tcs_week4)\n",
    "print(mov_avr_infy_week4)\n",
    "print(mov_avr_tcs_week16)\n",
    "print(mov_avr_infy_week16)\n",
    "print(mov_avr_tcs_week28)\n",
    "print(mov_avr_infy_week28)\n",
    "print(mov_avr_tcs_week40)\n",
    "print(mov_avr_infy_week40)\n",
    "print(mov_avr_tcs_week52)\n",
    "print(mov_avr_infy_week52)"
   ]
  },
  {
   "cell_type": "markdown",
   "metadata": {},
   "source": [
    "### NIFTY [Moving Averages]"
   ]
  },
  {
   "cell_type": "code",
   "execution_count": 32,
   "metadata": {
    "collapsed": false
   },
   "outputs": [],
   "source": [
    "mov_avr_nifty_week4 = _nifty[(_nifty[\"Date\"]<= '2015-1-28')][\"Close\"].mean()   \n",
    "mov_avr_nifty_week16= _nifty[(_nifty[\"Date\"] >'2015-1-28') & (_nifty[\"Date\"]<= '2015-4-22')][\"Close\"].mean()\n",
    "mov_avr_nifty_week28=_nifty[(_nifty[\"Date\"] >'2015-4-22') & (_nifty[\"Date\"]<= '2015-7-15')][\"Close\"].mean()\n",
    "mov_avr_nifty_week40=_nifty[(_nifty[\"Date\"] >'2015-7-15') & (_nifty[\"Date\"]<= '2015-10-7')][\"Close\"].mean()\n",
    "mov_avr_nifty_week52=_nifty[(_nifty[\"Date\"] >'2015-10-7') & (_nifty[\"Date\"]<= '2015-12-31')][\"Close\"].mean()"
   ]
  },
  {
   "cell_type": "code",
   "execution_count": 33,
   "metadata": {
    "collapsed": false
   },
   "outputs": [
    {
     "name": "stdout",
     "output_type": "stream",
     "text": [
      "11500.563157894738\n",
      "12252.784821428573\n",
      "11235.974576271186\n",
      "11634.748245614033\n",
      "11271.326315789473\n"
     ]
    }
   ],
   "source": [
    "#Moving average\n",
    "print(mov_avr_nifty_week4)\n",
    "print(mov_avr_nifty_week16)\n",
    "print(mov_avr_nifty_week28)\n",
    "print(mov_avr_nifty_week40)\n",
    "print(mov_avr_nifty_week52)"
   ]
  },
  {
   "cell_type": "markdown",
   "metadata": {},
   "source": [
    "### part-1, 1.2"
   ]
  },
  {
   "cell_type": "code",
   "execution_count": 53,
   "metadata": {
    "collapsed": true
   },
   "outputs": [],
   "source": [
    "from matplotlib.pylab import rcParams\n",
    "rcParams['figure.figsize'] = 1, 8\n",
    "import matplotlib.pyplot as plt \n",
    "%matplotlib inline"
   ]
  },
  {
   "cell_type": "code",
   "execution_count": 35,
   "metadata": {
    "collapsed": true
   },
   "outputs": [],
   "source": [
    "stock = pd.read_csv(r\"C:\\Users\\Acer\\Desktop\\01-01-2015-TO-31-12-2015TCS&INFY.csv 1.csv\",parse_dates=['Date'], index_col='Date')"
   ]
  },
  {
   "cell_type": "code",
   "execution_count": 36,
   "metadata": {
    "collapsed": true
   },
   "outputs": [],
   "source": [
    "index = pd.read_csv(r\"C:\\Users\\Acer\\Desktop\\dataNIFTYIT.csv\",parse_dates=['Date'], index_col='Date')"
   ]
  },
  {
   "cell_type": "code",
   "execution_count": 37,
   "metadata": {
    "collapsed": false
   },
   "outputs": [
    {
     "data": {
      "text/plain": [
       "Index(['Symbol', 'Series', 'Prev Close', 'Open Price', 'High Price',\n",
       "       'Low Price', 'Last Price', 'Close Price', 'Average Price',\n",
       "       'Total Traded Quantity', 'Turnover', 'No. of Trades', 'Deliverable Qty',\n",
       "       '% Dly Qt to Traded Qty'],\n",
       "      dtype='object')"
      ]
     },
     "execution_count": 37,
     "metadata": {},
     "output_type": "execute_result"
    }
   ],
   "source": [
    "stock.columns"
   ]
  },
  {
   "cell_type": "code",
   "execution_count": 38,
   "metadata": {
    "collapsed": false
   },
   "outputs": [
    {
     "data": {
      "text/plain": [
       "Index(['Open', 'High', 'Low', 'Close', 'Shares Traded', 'Turnover (Rs. Cr)'], dtype='object')"
      ]
     },
     "execution_count": 38,
     "metadata": {},
     "output_type": "execute_result"
    }
   ],
   "source": [
    "index.columns"
   ]
  },
  {
   "cell_type": "code",
   "execution_count": 39,
   "metadata": {
    "collapsed": true
   },
   "outputs": [],
   "source": [
    "from statsmodels.tsa.stattools import adfuller"
   ]
  },
  {
   "cell_type": "code",
   "execution_count": 40,
   "metadata": {
    "collapsed": false
   },
   "outputs": [
    {
     "data": {
      "text/plain": [
       "DatetimeIndex(['2015-01-01', '2015-01-02', '2015-01-05', '2015-01-06',\n",
       "               '2015-01-07', '2015-01-08', '2015-01-09', '2015-01-12',\n",
       "               '2015-01-13', '2015-01-14',\n",
       "               ...\n",
       "               '2015-12-17', '2015-12-18', '2015-12-21', '2015-12-22',\n",
       "               '2015-12-23', '2015-12-24', '2015-12-28', '2015-12-29',\n",
       "               '2015-12-30', '2015-12-31'],\n",
       "              dtype='datetime64[ns]', name='Date', length=498, freq=None)"
      ]
     },
     "execution_count": 40,
     "metadata": {},
     "output_type": "execute_result"
    }
   ],
   "source": [
    "stock.index"
   ]
  },
  {
   "cell_type": "code",
   "execution_count": 41,
   "metadata": {
    "collapsed": false
   },
   "outputs": [
    {
     "data": {
      "text/plain": [
       "DatetimeIndex(['2015-01-01', '2015-01-02', '2015-01-05', '2015-01-06',\n",
       "               '2015-01-07', '2015-01-08', '2015-01-09', '2015-01-12',\n",
       "               '2015-01-13', '2015-01-14',\n",
       "               ...\n",
       "               '2015-12-17', '2015-12-18', '2015-12-21', '2015-12-22',\n",
       "               '2015-12-23', '2015-12-24', '2015-12-28', '2015-12-29',\n",
       "               '2015-12-30', '2015-12-31'],\n",
       "              dtype='datetime64[ns]', name='Date', length=248, freq=None)"
      ]
     },
     "execution_count": 41,
     "metadata": {},
     "output_type": "execute_result"
    }
   ],
   "source": [
    "index.index"
   ]
  },
  {
   "cell_type": "markdown",
   "metadata": {},
   "source": [
    "#### Moving window [STOCK] "
   ]
  },
  {
   "cell_type": "code",
   "execution_count": 42,
   "metadata": {
    "collapsed": false
   },
   "outputs": [],
   "source": [
    "def rolling_window(timeseries):\n",
    "    \n",
    "    rol_wind_mean = pd.rolling_mean(timeseries, window=10)\n",
    "    rol_wind_std = pd.rolling_std(timeseries, window=10)\n",
    "\n",
    "    orig = plt.plot(timeseries, color='blue',label='Original')\n",
    "    mean = plt.plot(rol_wind_mean, color='red', label='Rolling Mean')\n",
    "    std = plt.plot(rol_wind_std, color='black', label = 'Rolling Std')\n",
    "    plt.legend(loc='best')\n",
    "    plt.title('Rolling Mean & Standard Deviation')\n",
    "    plt.show(block=False)\n",
    "    \n",
    "    print ('Results of Dickey-Fuller Test')\n",
    "    series_test = adfuller(timeseries, autolag='AIC')\n",
    "    result = pd.Series(series_test[0:4], index=['Test Statistic','p-value','#Lags Used','Number of Observations Used'])\n",
    "    for key,value in series_test[4].items():\n",
    "        result['Critical Value (%s)'%key] = value\n",
    "    print(result)"
   ]
  },
  {
   "cell_type": "code",
   "execution_count": 46,
   "metadata": {
    "collapsed": true
   },
   "outputs": [],
   "source": [
    "stock_out = stock['Close Price']"
   ]
  },
  {
   "cell_type": "code",
   "execution_count": 51,
   "metadata": {
    "collapsed": false
   },
   "outputs": [
    {
     "data": {
      "text/plain": [
       "Date\n",
       "2015-01-01    2545.55\n",
       "2015-01-02    2579.45\n",
       "2015-01-05    2540.25\n",
       "2015-01-06    2446.60\n",
       "2015-01-07    2417.70\n",
       "Name: Close Price, dtype: float64"
      ]
     },
     "execution_count": 51,
     "metadata": {},
     "output_type": "execute_result"
    }
   ],
   "source": [
    "stock_out.head()"
   ]
  },
  {
   "cell_type": "code",
   "execution_count": 54,
   "metadata": {
    "collapsed": false
   },
   "outputs": [
    {
     "name": "stderr",
     "output_type": "stream",
     "text": [
      "C:\\ProgramData\\Anaconda3\\lib\\site-packages\\ipykernel\\__main__.py:3: FutureWarning: pd.rolling_mean is deprecated for Series and will be removed in a future version, replace with \n",
      "\tSeries.rolling(window=10,center=False).mean()\n",
      "  app.launch_new_instance()\n",
      "C:\\ProgramData\\Anaconda3\\lib\\site-packages\\ipykernel\\__main__.py:4: FutureWarning: pd.rolling_std is deprecated for Series and will be removed in a future version, replace with \n",
      "\tSeries.rolling(window=10,center=False).std()\n"
     ]
    },
    {
     "data": {
      "image/png": "[encoded data removed]",
      "text/plain": [
       "<matplotlib.figure.Figure at 0x1aae56f59b0>"
      ]
     },
     "metadata": {},
     "output_type": "display_data"
    },
    {
     "name": "stdout",
     "output_type": "stream",
     "text": [
      "Results of Dickey-Fuller Test\n",
      "Test Statistic                  -0.620744\n",
      "p-value                          0.866226\n",
      "#Lags Used                       0.000000\n",
      "Number of Observations Used    497.000000\n",
      "Critical Value (1%)             -3.443576\n",
      "Critical Value (5%)             -2.867373\n",
      "Critical Value (10%)            -2.569877\n",
      "dtype: float64\n"
     ]
    }
   ],
   "source": [
    "rolling_window(stock_out)"
   ]
  },
  {
   "cell_type": "code",
   "execution_count": 55,
   "metadata": {
    "collapsed": true
   },
   "outputs": [],
   "source": [
    "def rolling_window(timeseries):\n",
    "    \n",
    "    rol_wind_mean = pd.rolling_mean(timeseries, window=75)\n",
    "    rol_wind_std = pd.rolling_std(timeseries, window=75)\n",
    "\n",
    "    orig = plt.plot(timeseries, color='blue',label='Original')\n",
    "    mean = plt.plot(rol_wind_mean, color='red', label='Rolling Mean')\n",
    "    std = plt.plot(rol_wind_std, color='black', label = 'Rolling Std')\n",
    "    plt.legend(loc='best')\n",
    "    plt.title('Rolling Mean & Standard Deviation')\n",
    "    plt.show(block=False)\n",
    "    \n",
    "    print ('Results of Dickey-Fuller Test')\n",
    "    series_test = adfuller(timeseries, autolag='AIC')\n",
    "    result = pd.Series(series_test[0:4], index=['Test Statistic','p-value','#Lags Used','Number of Observations Used'])\n",
    "    for key,value in series_test[4].items():\n",
    "        result['Critical Value (%s)'%key] = value\n",
    "    print(result)"
   ]
  },
  {
   "cell_type": "code",
   "execution_count": 56,
   "metadata": {
    "collapsed": false
   },
   "outputs": [
    {
     "name": "stderr",
     "output_type": "stream",
     "text": [
      "C:\\ProgramData\\Anaconda3\\lib\\site-packages\\ipykernel\\__main__.py:3: FutureWarning: pd.rolling_mean is deprecated for Series and will be removed in a future version, replace with \n",
      "\tSeries.rolling(window=75,center=False).mean()\n",
      "  app.launch_new_instance()\n",
      "C:\\ProgramData\\Anaconda3\\lib\\site-packages\\ipykernel\\__main__.py:4: FutureWarning: pd.rolling_std is deprecated for Series and will be removed in a future version, replace with \n",
      "\tSeries.rolling(window=75,center=False).std()\n"
     ]
    },
    {
     "data": {
      "image/png": "[encoded data removed]",
      "text/plain": [
       "<matplotlib.figure.Figure at 0x1aae62d2080>"
      ]
     },
     "metadata": {},
     "output_type": "display_data"
    },
    {
     "name": "stdout",
     "output_type": "stream",
     "text": [
      "Results of Dickey-Fuller Test\n",
      "Test Statistic                  -0.620744\n",
      "p-value                          0.866226\n",
      "#Lags Used                       0.000000\n",
      "Number of Observations Used    497.000000\n",
      "Critical Value (1%)             -3.443576\n",
      "Critical Value (5%)             -2.867373\n",
      "Critical Value (10%)            -2.569877\n",
      "dtype: float64\n"
     ]
    }
   ],
   "source": [
    "rolling_window(stock_out)"
   ]
  },
  {
   "cell_type": "markdown",
   "metadata": {},
   "source": [
    "#### Moving Window Index"
   ]
  },
  {
   "cell_type": "code",
   "execution_count": 57,
   "metadata": {
    "collapsed": true
   },
   "outputs": [],
   "source": [
    "def rolling_window(timeseries):\n",
    "    \n",
    "    rol_wind_mean = pd.rolling_mean(timeseries, window=10)\n",
    "    rol_wind_std = pd.rolling_std(timeseries, window=10)\n",
    "\n",
    "    orig = plt.plot(timeseries, color='blue',label='Original')\n",
    "    mean = plt.plot(rol_wind_mean, color='red', label='Rolling Mean')\n",
    "    std = plt.plot(rol_wind_std, color='black', label = 'Rolling Std')\n",
    "    plt.legend(loc='best')\n",
    "    plt.title('Rolling Mean & Standard Deviation')\n",
    "    plt.show(block=False)\n",
    "    \n",
    "    print ('Results of Dickey-Fuller Test')\n",
    "    series_test = adfuller(timeseries, autolag='AIC')\n",
    "    result = pd.Series(series_test[0:4], index=['Test Statistic','p-value','#Lags Used','Number of Observations Used'])\n",
    "    for key,value in series_test[4].items():\n",
    "        result['Critical Value (%s)'%key] = value\n",
    "    print(result)"
   ]
  },
  {
   "cell_type": "code",
   "execution_count": 58,
   "metadata": {
    "collapsed": true
   },
   "outputs": [],
   "source": [
    "index_out = index['Close']"
   ]
  },
  {
   "cell_type": "code",
   "execution_count": 59,
   "metadata": {
    "collapsed": false
   },
   "outputs": [
    {
     "data": {
      "text/plain": [
       "Date\n",
       "2015-01-01    11215.70\n",
       "2015-01-02    11372.10\n",
       "2015-01-05    11248.55\n",
       "2015-01-06    10959.90\n",
       "2015-01-07    10916.00\n",
       "Name: Close, dtype: float64"
      ]
     },
     "execution_count": 59,
     "metadata": {},
     "output_type": "execute_result"
    }
   ],
   "source": [
    "index_out.head()"
   ]
  },
  {
   "cell_type": "code",
   "execution_count": 60,
   "metadata": {
    "collapsed": false
   },
   "outputs": [
    {
     "name": "stderr",
     "output_type": "stream",
     "text": [
      "C:\\ProgramData\\Anaconda3\\lib\\site-packages\\ipykernel\\__main__.py:3: FutureWarning: pd.rolling_mean is deprecated for Series and will be removed in a future version, replace with \n",
      "\tSeries.rolling(window=10,center=False).mean()\n",
      "  app.launch_new_instance()\n",
      "C:\\ProgramData\\Anaconda3\\lib\\site-packages\\ipykernel\\__main__.py:4: FutureWarning: pd.rolling_std is deprecated for Series and will be removed in a future version, replace with \n",
      "\tSeries.rolling(window=10,center=False).std()\n"
     ]
    },
    {
     "data": {
      "image/png": "[encoded data removed]",
      "text/plain": [
       "<matplotlib.figure.Figure at 0x1aae5dabb38>"
      ]
     },
     "metadata": {},
     "output_type": "display_data"
    },
    {
     "name": "stdout",
     "output_type": "stream",
     "text": [
      "Results of Dickey-Fuller Test\n",
      "Test Statistic                  -2.151815\n",
      "p-value                          0.224196\n",
      "#Lags Used                       0.000000\n",
      "Number of Observations Used    247.000000\n",
      "Critical Value (1%)             -3.457105\n",
      "Critical Value (5%)             -2.873314\n",
      "Critical Value (10%)            -2.573044\n",
      "dtype: float64\n"
     ]
    }
   ],
   "source": [
    "rolling_window(index_out)"
   ]
  },
  {
   "cell_type": "code",
   "execution_count": 62,
   "metadata": {
    "collapsed": true
   },
   "outputs": [],
   "source": [
    "def rolling_window(timeseries):\n",
    "    \n",
    "    rol_wind_mean = pd.rolling_mean(timeseries, window=75)\n",
    "    rol_wind_std = pd.rolling_std(timeseries, window=75)\n",
    "\n",
    "    orig = plt.plot(timeseries, color='blue',label='Original')\n",
    "    mean = plt.plot(rol_wind_mean, color='red', label='Rolling Mean')\n",
    "    std = plt.plot(rol_wind_std, color='black', label = 'Rolling Std')\n",
    "    plt.legend(loc='best')\n",
    "    plt.title('Rolling Mean & Standard Deviation')\n",
    "    plt.show(block=False)\n",
    "    \n",
    "    print ('Results of Dickey-Fuller Test')\n",
    "    series_test = adfuller(timeseries, autolag='AIC')\n",
    "    result = pd.Series(series_test[0:4], index=['Test Statistic','p-value','#Lags Used','Number of Observations Used'])\n",
    "    for key,value in series_test[4].items():\n",
    "        result['Critical Value (%s)'%key] = value\n",
    "    print(result)"
   ]
  },
  {
   "cell_type": "code",
   "execution_count": 63,
   "metadata": {
    "collapsed": false
   },
   "outputs": [
    {
     "name": "stderr",
     "output_type": "stream",
     "text": [
      "C:\\ProgramData\\Anaconda3\\lib\\site-packages\\ipykernel\\__main__.py:3: FutureWarning: pd.rolling_mean is deprecated for Series and will be removed in a future version, replace with \n",
      "\tSeries.rolling(window=75,center=False).mean()\n",
      "  app.launch_new_instance()\n",
      "C:\\ProgramData\\Anaconda3\\lib\\site-packages\\ipykernel\\__main__.py:4: FutureWarning: pd.rolling_std is deprecated for Series and will be removed in a future version, replace with \n",
      "\tSeries.rolling(window=75,center=False).std()\n"
     ]
    },
    {
     "data": {
      "image/png": "[encoded data removed]",
      "text/plain": [
       "<matplotlib.figure.Figure at 0x1aae642ada0>"
      ]
     },
     "metadata": {},
     "output_type": "display_data"
    },
    {
     "name": "stdout",
     "output_type": "stream",
     "text": [
      "Results of Dickey-Fuller Test\n",
      "Test Statistic                  -2.151815\n",
      "p-value                          0.224196\n",
      "#Lags Used                       0.000000\n",
      "Number of Observations Used    247.000000\n",
      "Critical Value (1%)             -3.457105\n",
      "Critical Value (5%)             -2.873314\n",
      "Critical Value (10%)            -2.573044\n",
      "dtype: float64\n"
     ]
    }
   ],
   "source": [
    "rolling_window(index_out)"
   ]
  },
  {
   "cell_type": "markdown",
   "metadata": {},
   "source": [
    "#### Part-1, 3.1"
   ]
  },
  {
   "cell_type": "code",
   "execution_count": 64,
   "metadata": {
    "collapsed": false
   },
   "outputs": [],
   "source": [
    "#_tcs_infy[\"Total Traded Quantity\"]= np.array.(_tcs_infy[\"Total Traded Quantity\"])"
   ]
  },
  {
   "cell_type": "code",
   "execution_count": 65,
   "metadata": {
    "collapsed": false
   },
   "outputs": [
    {
     "data": {
      "text/plain": [
       "498"
      ]
     },
     "execution_count": 65,
     "metadata": {},
     "output_type": "execute_result"
    }
   ],
   "source": [
    "len(_tcs_infy[\"Total Traded Quantity\"])"
   ]
  },
  {
   "cell_type": "code",
   "execution_count": 66,
   "metadata": {
    "collapsed": false
   },
   "outputs": [
    {
     "data": {
      "text/plain": [
       "'while siz=len(_tcs_infy[\"Total Traded Quantity\"]):\\nx = _tcs_infy[\"Total Traded Quantity\"][0]\\ny = +1'"
      ]
     },
     "execution_count": 66,
     "metadata": {},
     "output_type": "execute_result"
    }
   ],
   "source": [
    "\"\"\"while siz=len(_tcs_infy[\"Total Traded Quantity\"]):\n",
    "x = _tcs_infy[\"Total Traded Quantity\"][0]\n",
    "y = +1\"\"\""
   ]
  },
  {
   "cell_type": "code",
   "execution_count": 67,
   "metadata": {
    "collapsed": true
   },
   "outputs": [],
   "source": [
    "bool_ser = []\n",
    "den = list(_tcs_infy[\"Total Traded Quantity\"])\n",
    "\n",
    "i = den[1]\n",
    "i = i +1\n",
    "j = i + 1\n",
    "\n",
    "\n",
    "count = 0\n",
    "while count <= 498:\n",
    "    if ((j-i)*0.1) >i:\n",
    "        bool_ser.append(0)\n",
    "    elif ((j-i)*0.1) < i:\n",
    "        bool_ser.append(1)\n",
    "    count += 1"
   ]
  },
  {
   "cell_type": "code",
   "execution_count": 68,
   "metadata": {
    "collapsed": true
   },
   "outputs": [],
   "source": [
    "bool_ser = pd.DataFrame(bool_ser)"
   ]
  },
  {
   "cell_type": "code",
   "execution_count": 69,
   "metadata": {
    "collapsed": true
   },
   "outputs": [],
   "source": [
    "_tcs_infy['Volume_Shock'] = bool_ser"
   ]
  },
  {
   "cell_type": "code",
   "execution_count": 70,
   "metadata": {
    "collapsed": false
   },
   "outputs": [
    {
     "data": {
      "text/html": [
       "<div>\n",
       "<table border=\"1\" class=\"dataframe\">\n",
       "  <thead>\n",
       "    <tr style=\"text-align: right;\">\n",
       "      <th></th>\n",
       "      <th>Symbol</th>\n",
       "      <th>Series</th>\n",
       "      <th>Date</th>\n",
       "      <th>Prev Close</th>\n",
       "      <th>Open Price</th>\n",
       "      <th>High Price</th>\n",
       "      <th>Low Price</th>\n",
       "      <th>Last Price</th>\n",
       "      <th>Close Price</th>\n",
       "      <th>Average Price</th>\n",
       "      <th>Total Traded Quantity</th>\n",
       "      <th>Turnover</th>\n",
       "      <th>No. of Trades</th>\n",
       "      <th>Deliverable Qty</th>\n",
       "      <th>% Dly Qt to Traded Qty</th>\n",
       "      <th>week</th>\n",
       "      <th>Volume_Shock</th>\n",
       "    </tr>\n",
       "  </thead>\n",
       "  <tbody>\n",
       "    <tr>\n",
       "      <th>0</th>\n",
       "      <td>TCS</td>\n",
       "      <td>EQ</td>\n",
       "      <td>2015-01-01</td>\n",
       "      <td>2558.25</td>\n",
       "      <td>2567.0</td>\n",
       "      <td>2567.00</td>\n",
       "      <td>2541.00</td>\n",
       "      <td>2550.00</td>\n",
       "      <td>2545.55</td>\n",
       "      <td>2548.51</td>\n",
       "      <td>183415</td>\n",
       "      <td>4.674345e+08</td>\n",
       "      <td>8002</td>\n",
       "      <td>52870</td>\n",
       "      <td>28.83</td>\n",
       "      <td>week4</td>\n",
       "      <td>1</td>\n",
       "    </tr>\n",
       "    <tr>\n",
       "      <th>1</th>\n",
       "      <td>TCS</td>\n",
       "      <td>EQ</td>\n",
       "      <td>2015-01-02</td>\n",
       "      <td>2545.55</td>\n",
       "      <td>2551.0</td>\n",
       "      <td>2590.95</td>\n",
       "      <td>2550.60</td>\n",
       "      <td>2588.40</td>\n",
       "      <td>2579.45</td>\n",
       "      <td>2568.19</td>\n",
       "      <td>462870</td>\n",
       "      <td>1.188740e+09</td>\n",
       "      <td>27585</td>\n",
       "      <td>309350</td>\n",
       "      <td>66.83</td>\n",
       "      <td>week4</td>\n",
       "      <td>1</td>\n",
       "    </tr>\n",
       "    <tr>\n",
       "      <th>2</th>\n",
       "      <td>TCS</td>\n",
       "      <td>EQ</td>\n",
       "      <td>2015-01-05</td>\n",
       "      <td>2579.45</td>\n",
       "      <td>2581.0</td>\n",
       "      <td>2599.90</td>\n",
       "      <td>2524.65</td>\n",
       "      <td>2538.10</td>\n",
       "      <td>2540.25</td>\n",
       "      <td>2563.94</td>\n",
       "      <td>877121</td>\n",
       "      <td>2.248886e+09</td>\n",
       "      <td>43234</td>\n",
       "      <td>456728</td>\n",
       "      <td>52.07</td>\n",
       "      <td>week4</td>\n",
       "      <td>1</td>\n",
       "    </tr>\n",
       "    <tr>\n",
       "      <th>3</th>\n",
       "      <td>TCS</td>\n",
       "      <td>EQ</td>\n",
       "      <td>2015-01-06</td>\n",
       "      <td>2540.25</td>\n",
       "      <td>2529.1</td>\n",
       "      <td>2529.10</td>\n",
       "      <td>2440.00</td>\n",
       "      <td>2450.05</td>\n",
       "      <td>2446.60</td>\n",
       "      <td>2466.90</td>\n",
       "      <td>1211892</td>\n",
       "      <td>2.989615e+09</td>\n",
       "      <td>84503</td>\n",
       "      <td>714306</td>\n",
       "      <td>58.94</td>\n",
       "      <td>week4</td>\n",
       "      <td>1</td>\n",
       "    </tr>\n",
       "    <tr>\n",
       "      <th>4</th>\n",
       "      <td>TCS</td>\n",
       "      <td>EQ</td>\n",
       "      <td>2015-01-07</td>\n",
       "      <td>2446.60</td>\n",
       "      <td>2470.0</td>\n",
       "      <td>2479.15</td>\n",
       "      <td>2407.45</td>\n",
       "      <td>2426.90</td>\n",
       "      <td>2417.70</td>\n",
       "      <td>2433.96</td>\n",
       "      <td>1318166</td>\n",
       "      <td>3.208362e+09</td>\n",
       "      <td>101741</td>\n",
       "      <td>886368</td>\n",
       "      <td>67.24</td>\n",
       "      <td>week4</td>\n",
       "      <td>1</td>\n",
       "    </tr>\n",
       "  </tbody>\n",
       "</table>\n",
       "</div>"
      ],
      "text/plain": [
       "  Symbol Series       Date  Prev Close  Open Price  High Price  Low Price  \\\n",
       "0    TCS     EQ 2015-01-01     2558.25      2567.0     2567.00    2541.00   \n",
       "1    TCS     EQ 2015-01-02     2545.55      2551.0     2590.95    2550.60   \n",
       "2    TCS     EQ 2015-01-05     2579.45      2581.0     2599.90    2524.65   \n",
       "3    TCS     EQ 2015-01-06     2540.25      2529.1     2529.10    2440.00   \n",
       "4    TCS     EQ 2015-01-07     2446.60      2470.0     2479.15    2407.45   \n",
       "\n",
       "   Last Price  Close Price  Average Price  Total Traded Quantity  \\\n",
       "0     2550.00      2545.55        2548.51                 183415   \n",
       "1     2588.40      2579.45        2568.19                 462870   \n",
       "2     2538.10      2540.25        2563.94                 877121   \n",
       "3     2450.05      2446.60        2466.90                1211892   \n",
       "4     2426.90      2417.70        2433.96                1318166   \n",
       "\n",
       "       Turnover  No. of Trades  Deliverable Qty  % Dly Qt to Traded Qty  \\\n",
       "0  4.674345e+08           8002            52870                   28.83   \n",
       "1  1.188740e+09          27585           309350                   66.83   \n",
       "2  2.248886e+09          43234           456728                   52.07   \n",
       "3  2.989615e+09          84503           714306                   58.94   \n",
       "4  3.208362e+09         101741           886368                   67.24   \n",
       "\n",
       "    week  Volume_Shock  \n",
       "0  week4             1  \n",
       "1  week4             1  \n",
       "2  week4             1  \n",
       "3  week4             1  \n",
       "4  week4             1  "
      ]
     },
     "execution_count": 70,
     "metadata": {},
     "output_type": "execute_result"
    }
   ],
   "source": [
    "_tcs_infy.head()"
   ]
  },
  {
   "cell_type": "code",
   "execution_count": 74,
   "metadata": {
    "collapsed": false
   },
   "outputs": [
    {
     "data": {
      "text/plain": [
       "248"
      ]
     },
     "execution_count": 74,
     "metadata": {},
     "output_type": "execute_result"
    }
   ],
   "source": [
    "len(_nifty[\"Shares Traded\"])"
   ]
  },
  {
   "cell_type": "code",
   "execution_count": 75,
   "metadata": {
    "collapsed": true
   },
   "outputs": [],
   "source": [
    "bool_ser = []\n",
    "den = list(_nifty[\"Shares Traded\"])\n",
    "\n",
    "i = den[1]\n",
    "i = i +1\n",
    "j = i + 1\n",
    "\n",
    "\n",
    "count = 0\n",
    "while count <= 247:\n",
    "    if ((j-i)*0.1) >i:\n",
    "        bool_ser.append(0)\n",
    "    elif ((j-i)*0.1) < i:\n",
    "        bool_ser.append(1)\n",
    "    count += 1"
   ]
  },
  {
   "cell_type": "code",
   "execution_count": 76,
   "metadata": {
    "collapsed": false
   },
   "outputs": [],
   "source": [
    "_nifty['Volume_Shock'] = bool_ser"
   ]
  },
  {
   "cell_type": "code",
   "execution_count": 77,
   "metadata": {
    "collapsed": false
   },
   "outputs": [
    {
     "data": {
      "text/html": [
       "<div>\n",
       "<table border=\"1\" class=\"dataframe\">\n",
       "  <thead>\n",
       "    <tr style=\"text-align: right;\">\n",
       "      <th></th>\n",
       "      <th>Date</th>\n",
       "      <th>Open</th>\n",
       "      <th>High</th>\n",
       "      <th>Low</th>\n",
       "      <th>Close</th>\n",
       "      <th>Shares Traded</th>\n",
       "      <th>Turnover (Rs. Cr)</th>\n",
       "      <th>week</th>\n",
       "      <th>Volume_Shock</th>\n",
       "    </tr>\n",
       "  </thead>\n",
       "  <tbody>\n",
       "    <tr>\n",
       "      <th>0</th>\n",
       "      <td>2015-01-01</td>\n",
       "      <td>11214.80</td>\n",
       "      <td>11235.75</td>\n",
       "      <td>11166.35</td>\n",
       "      <td>11215.70</td>\n",
       "      <td>4246150</td>\n",
       "      <td>357.51</td>\n",
       "      <td>week52</td>\n",
       "      <td>1</td>\n",
       "    </tr>\n",
       "    <tr>\n",
       "      <th>1</th>\n",
       "      <td>2015-01-02</td>\n",
       "      <td>11214.65</td>\n",
       "      <td>11399.10</td>\n",
       "      <td>11214.65</td>\n",
       "      <td>11372.10</td>\n",
       "      <td>10004862</td>\n",
       "      <td>964.56</td>\n",
       "      <td>week52</td>\n",
       "      <td>1</td>\n",
       "    </tr>\n",
       "    <tr>\n",
       "      <th>2</th>\n",
       "      <td>2015-01-05</td>\n",
       "      <td>11369.35</td>\n",
       "      <td>11433.75</td>\n",
       "      <td>11186.95</td>\n",
       "      <td>11248.55</td>\n",
       "      <td>8858018</td>\n",
       "      <td>1059.00</td>\n",
       "      <td>week52</td>\n",
       "      <td>1</td>\n",
       "    </tr>\n",
       "    <tr>\n",
       "      <th>3</th>\n",
       "      <td>2015-01-06</td>\n",
       "      <td>11186.10</td>\n",
       "      <td>11186.10</td>\n",
       "      <td>10909.00</td>\n",
       "      <td>10959.90</td>\n",
       "      <td>12515739</td>\n",
       "      <td>1364.50</td>\n",
       "      <td>week52</td>\n",
       "      <td>1</td>\n",
       "    </tr>\n",
       "    <tr>\n",
       "      <th>4</th>\n",
       "      <td>2015-01-07</td>\n",
       "      <td>11013.20</td>\n",
       "      <td>11042.35</td>\n",
       "      <td>10889.55</td>\n",
       "      <td>10916.00</td>\n",
       "      <td>10976356</td>\n",
       "      <td>1203.44</td>\n",
       "      <td>week52</td>\n",
       "      <td>1</td>\n",
       "    </tr>\n",
       "  </tbody>\n",
       "</table>\n",
       "</div>"
      ],
      "text/plain": [
       "        Date      Open      High       Low     Close  Shares Traded  \\\n",
       "0 2015-01-01  11214.80  11235.75  11166.35  11215.70        4246150   \n",
       "1 2015-01-02  11214.65  11399.10  11214.65  11372.10       10004862   \n",
       "2 2015-01-05  11369.35  11433.75  11186.95  11248.55        8858018   \n",
       "3 2015-01-06  11186.10  11186.10  10909.00  10959.90       12515739   \n",
       "4 2015-01-07  11013.20  11042.35  10889.55  10916.00       10976356   \n",
       "\n",
       "   Turnover (Rs. Cr)    week  Volume_Shock  \n",
       "0             357.51  week52             1  \n",
       "1             964.56  week52             1  \n",
       "2            1059.00  week52             1  \n",
       "3            1364.50  week52             1  \n",
       "4            1203.44  week52             1  "
      ]
     },
     "execution_count": 77,
     "metadata": {},
     "output_type": "execute_result"
    }
   ],
   "source": [
    "_nifty.head()"
   ]
  },
  {
   "cell_type": "code",
   "execution_count": 78,
   "metadata": {
    "collapsed": false
   },
   "outputs": [
    {
     "data": {
      "text/plain": [
       "Date                 248\n",
       "Open                 248\n",
       "High                 248\n",
       "Low                  248\n",
       "Close                248\n",
       "Shares Traded        248\n",
       "Turnover (Rs. Cr)    248\n",
       "week                 248\n",
       "Volume_Shock         248\n",
       "dtype: int64"
      ]
     },
     "execution_count": 78,
     "metadata": {},
     "output_type": "execute_result"
    }
   ],
   "source": [
    "_nifty.count()"
   ]
  },
  {
   "cell_type": "markdown",
   "metadata": {},
   "source": [
    "### Part-1, 3.2"
   ]
  },
  {
   "cell_type": "code",
   "execution_count": 79,
   "metadata": {
    "collapsed": true
   },
   "outputs": [],
   "source": [
    "lr = []\n",
    "den = list(_tcs_infy[\"Close Price\"])\n",
    "\n",
    "i = den[0]\n",
    "i = i +1\n",
    "j = i + 1\n",
    "\n",
    "\n",
    "count = 0\n",
    "while count <= 498:\n",
    "    if (((j-i)/j)*100) >2:\n",
    "        lr.append(0)\n",
    "    elif (((j-i)/j)*100) < 2:\n",
    "        lr.append(1)\n",
    "    count += 1"
   ]
  },
  {
   "cell_type": "code",
   "execution_count": 80,
   "metadata": {
    "collapsed": true
   },
   "outputs": [],
   "source": [
    "lr = pd.DataFrame(lr)"
   ]
  },
  {
   "cell_type": "code",
   "execution_count": 81,
   "metadata": {
    "collapsed": true
   },
   "outputs": [],
   "source": [
    "_tcs_infy['price_Shock'] = lr"
   ]
  },
  {
   "cell_type": "code",
   "execution_count": 82,
   "metadata": {
    "collapsed": false
   },
   "outputs": [
    {
     "data": {
      "text/html": [
       "<div>\n",
       "<table border=\"1\" class=\"dataframe\">\n",
       "  <thead>\n",
       "    <tr style=\"text-align: right;\">\n",
       "      <th></th>\n",
       "      <th>Symbol</th>\n",
       "      <th>Series</th>\n",
       "      <th>Date</th>\n",
       "      <th>Prev Close</th>\n",
       "      <th>Open Price</th>\n",
       "      <th>High Price</th>\n",
       "      <th>Low Price</th>\n",
       "      <th>Last Price</th>\n",
       "      <th>Close Price</th>\n",
       "      <th>Average Price</th>\n",
       "      <th>Total Traded Quantity</th>\n",
       "      <th>Turnover</th>\n",
       "      <th>No. of Trades</th>\n",
       "      <th>Deliverable Qty</th>\n",
       "      <th>% Dly Qt to Traded Qty</th>\n",
       "      <th>week</th>\n",
       "      <th>Volume_Shock</th>\n",
       "      <th>price_Shock</th>\n",
       "    </tr>\n",
       "  </thead>\n",
       "  <tbody>\n",
       "    <tr>\n",
       "      <th>0</th>\n",
       "      <td>TCS</td>\n",
       "      <td>EQ</td>\n",
       "      <td>2015-01-01</td>\n",
       "      <td>2558.25</td>\n",
       "      <td>2567.0</td>\n",
       "      <td>2567.00</td>\n",
       "      <td>2541.00</td>\n",
       "      <td>2550.00</td>\n",
       "      <td>2545.55</td>\n",
       "      <td>2548.51</td>\n",
       "      <td>183415</td>\n",
       "      <td>4.674345e+08</td>\n",
       "      <td>8002</td>\n",
       "      <td>52870</td>\n",
       "      <td>28.83</td>\n",
       "      <td>week4</td>\n",
       "      <td>1</td>\n",
       "      <td>1</td>\n",
       "    </tr>\n",
       "    <tr>\n",
       "      <th>1</th>\n",
       "      <td>TCS</td>\n",
       "      <td>EQ</td>\n",
       "      <td>2015-01-02</td>\n",
       "      <td>2545.55</td>\n",
       "      <td>2551.0</td>\n",
       "      <td>2590.95</td>\n",
       "      <td>2550.60</td>\n",
       "      <td>2588.40</td>\n",
       "      <td>2579.45</td>\n",
       "      <td>2568.19</td>\n",
       "      <td>462870</td>\n",
       "      <td>1.188740e+09</td>\n",
       "      <td>27585</td>\n",
       "      <td>309350</td>\n",
       "      <td>66.83</td>\n",
       "      <td>week4</td>\n",
       "      <td>1</td>\n",
       "      <td>1</td>\n",
       "    </tr>\n",
       "    <tr>\n",
       "      <th>2</th>\n",
       "      <td>TCS</td>\n",
       "      <td>EQ</td>\n",
       "      <td>2015-01-05</td>\n",
       "      <td>2579.45</td>\n",
       "      <td>2581.0</td>\n",
       "      <td>2599.90</td>\n",
       "      <td>2524.65</td>\n",
       "      <td>2538.10</td>\n",
       "      <td>2540.25</td>\n",
       "      <td>2563.94</td>\n",
       "      <td>877121</td>\n",
       "      <td>2.248886e+09</td>\n",
       "      <td>43234</td>\n",
       "      <td>456728</td>\n",
       "      <td>52.07</td>\n",
       "      <td>week4</td>\n",
       "      <td>1</td>\n",
       "      <td>1</td>\n",
       "    </tr>\n",
       "    <tr>\n",
       "      <th>3</th>\n",
       "      <td>TCS</td>\n",
       "      <td>EQ</td>\n",
       "      <td>2015-01-06</td>\n",
       "      <td>2540.25</td>\n",
       "      <td>2529.1</td>\n",
       "      <td>2529.10</td>\n",
       "      <td>2440.00</td>\n",
       "      <td>2450.05</td>\n",
       "      <td>2446.60</td>\n",
       "      <td>2466.90</td>\n",
       "      <td>1211892</td>\n",
       "      <td>2.989615e+09</td>\n",
       "      <td>84503</td>\n",
       "      <td>714306</td>\n",
       "      <td>58.94</td>\n",
       "      <td>week4</td>\n",
       "      <td>1</td>\n",
       "      <td>1</td>\n",
       "    </tr>\n",
       "    <tr>\n",
       "      <th>4</th>\n",
       "      <td>TCS</td>\n",
       "      <td>EQ</td>\n",
       "      <td>2015-01-07</td>\n",
       "      <td>2446.60</td>\n",
       "      <td>2470.0</td>\n",
       "      <td>2479.15</td>\n",
       "      <td>2407.45</td>\n",
       "      <td>2426.90</td>\n",
       "      <td>2417.70</td>\n",
       "      <td>2433.96</td>\n",
       "      <td>1318166</td>\n",
       "      <td>3.208362e+09</td>\n",
       "      <td>101741</td>\n",
       "      <td>886368</td>\n",
       "      <td>67.24</td>\n",
       "      <td>week4</td>\n",
       "      <td>1</td>\n",
       "      <td>1</td>\n",
       "    </tr>\n",
       "  </tbody>\n",
       "</table>\n",
       "</div>"
      ],
      "text/plain": [
       "  Symbol Series       Date  Prev Close  Open Price  High Price  Low Price  \\\n",
       "0    TCS     EQ 2015-01-01     2558.25      2567.0     2567.00    2541.00   \n",
       "1    TCS     EQ 2015-01-02     2545.55      2551.0     2590.95    2550.60   \n",
       "2    TCS     EQ 2015-01-05     2579.45      2581.0     2599.90    2524.65   \n",
       "3    TCS     EQ 2015-01-06     2540.25      2529.1     2529.10    2440.00   \n",
       "4    TCS     EQ 2015-01-07     2446.60      2470.0     2479.15    2407.45   \n",
       "\n",
       "   Last Price  Close Price  Average Price  Total Traded Quantity  \\\n",
       "0     2550.00      2545.55        2548.51                 183415   \n",
       "1     2588.40      2579.45        2568.19                 462870   \n",
       "2     2538.10      2540.25        2563.94                 877121   \n",
       "3     2450.05      2446.60        2466.90                1211892   \n",
       "4     2426.90      2417.70        2433.96                1318166   \n",
       "\n",
       "       Turnover  No. of Trades  Deliverable Qty  % Dly Qt to Traded Qty  \\\n",
       "0  4.674345e+08           8002            52870                   28.83   \n",
       "1  1.188740e+09          27585           309350                   66.83   \n",
       "2  2.248886e+09          43234           456728                   52.07   \n",
       "3  2.989615e+09          84503           714306                   58.94   \n",
       "4  3.208362e+09         101741           886368                   67.24   \n",
       "\n",
       "    week  Volume_Shock  price_Shock  \n",
       "0  week4             1            1  \n",
       "1  week4             1            1  \n",
       "2  week4             1            1  \n",
       "3  week4             1            1  \n",
       "4  week4             1            1  "
      ]
     },
     "execution_count": 82,
     "metadata": {},
     "output_type": "execute_result"
    }
   ],
   "source": [
    "_tcs_infy.head()"
   ]
  },
  {
   "cell_type": "code",
   "execution_count": 83,
   "metadata": {
    "collapsed": true
   },
   "outputs": [],
   "source": [
    "lr = []\n",
    "den = list(_nifty[\"Close\"])\n",
    "\n",
    "i = den[0]\n",
    "i = i +1\n",
    "j = i + 1\n",
    "\n",
    "\n",
    "count = 0\n",
    "while count <= 247:\n",
    "    if (((j-i)/j)*100) >2:\n",
    "        lr.append(0)\n",
    "    elif (((j-i)/j)*100) < 2:\n",
    "        lr.append(1)\n",
    "    count += 1"
   ]
  },
  {
   "cell_type": "code",
   "execution_count": 84,
   "metadata": {
    "collapsed": false
   },
   "outputs": [],
   "source": [
    "_nifty['price_Shock'] = lr"
   ]
  },
  {
   "cell_type": "code",
   "execution_count": 85,
   "metadata": {
    "collapsed": false
   },
   "outputs": [
    {
     "data": {
      "text/html": [
       "<div>\n",
       "<table border=\"1\" class=\"dataframe\">\n",
       "  <thead>\n",
       "    <tr style=\"text-align: right;\">\n",
       "      <th></th>\n",
       "      <th>Date</th>\n",
       "      <th>Open</th>\n",
       "      <th>High</th>\n",
       "      <th>Low</th>\n",
       "      <th>Close</th>\n",
       "      <th>Shares Traded</th>\n",
       "      <th>Turnover (Rs. Cr)</th>\n",
       "      <th>week</th>\n",
       "      <th>Volume_Shock</th>\n",
       "      <th>price_Shock</th>\n",
       "    </tr>\n",
       "  </thead>\n",
       "  <tbody>\n",
       "    <tr>\n",
       "      <th>0</th>\n",
       "      <td>2015-01-01</td>\n",
       "      <td>11214.80</td>\n",
       "      <td>11235.75</td>\n",
       "      <td>11166.35</td>\n",
       "      <td>11215.70</td>\n",
       "      <td>4246150</td>\n",
       "      <td>357.51</td>\n",
       "      <td>week52</td>\n",
       "      <td>1</td>\n",
       "      <td>1</td>\n",
       "    </tr>\n",
       "    <tr>\n",
       "      <th>1</th>\n",
       "      <td>2015-01-02</td>\n",
       "      <td>11214.65</td>\n",
       "      <td>11399.10</td>\n",
       "      <td>11214.65</td>\n",
       "      <td>11372.10</td>\n",
       "      <td>10004862</td>\n",
       "      <td>964.56</td>\n",
       "      <td>week52</td>\n",
       "      <td>1</td>\n",
       "      <td>1</td>\n",
       "    </tr>\n",
       "    <tr>\n",
       "      <th>2</th>\n",
       "      <td>2015-01-05</td>\n",
       "      <td>11369.35</td>\n",
       "      <td>11433.75</td>\n",
       "      <td>11186.95</td>\n",
       "      <td>11248.55</td>\n",
       "      <td>8858018</td>\n",
       "      <td>1059.00</td>\n",
       "      <td>week52</td>\n",
       "      <td>1</td>\n",
       "      <td>1</td>\n",
       "    </tr>\n",
       "    <tr>\n",
       "      <th>3</th>\n",
       "      <td>2015-01-06</td>\n",
       "      <td>11186.10</td>\n",
       "      <td>11186.10</td>\n",
       "      <td>10909.00</td>\n",
       "      <td>10959.90</td>\n",
       "      <td>12515739</td>\n",
       "      <td>1364.50</td>\n",
       "      <td>week52</td>\n",
       "      <td>1</td>\n",
       "      <td>1</td>\n",
       "    </tr>\n",
       "    <tr>\n",
       "      <th>4</th>\n",
       "      <td>2015-01-07</td>\n",
       "      <td>11013.20</td>\n",
       "      <td>11042.35</td>\n",
       "      <td>10889.55</td>\n",
       "      <td>10916.00</td>\n",
       "      <td>10976356</td>\n",
       "      <td>1203.44</td>\n",
       "      <td>week52</td>\n",
       "      <td>1</td>\n",
       "      <td>1</td>\n",
       "    </tr>\n",
       "  </tbody>\n",
       "</table>\n",
       "</div>"
      ],
      "text/plain": [
       "        Date      Open      High       Low     Close  Shares Traded  \\\n",
       "0 2015-01-01  11214.80  11235.75  11166.35  11215.70        4246150   \n",
       "1 2015-01-02  11214.65  11399.10  11214.65  11372.10       10004862   \n",
       "2 2015-01-05  11369.35  11433.75  11186.95  11248.55        8858018   \n",
       "3 2015-01-06  11186.10  11186.10  10909.00  10959.90       12515739   \n",
       "4 2015-01-07  11013.20  11042.35  10889.55  10916.00       10976356   \n",
       "\n",
       "   Turnover (Rs. Cr)    week  Volume_Shock  price_Shock  \n",
       "0             357.51  week52             1            1  \n",
       "1             964.56  week52             1            1  \n",
       "2            1059.00  week52             1            1  \n",
       "3            1364.50  week52             1            1  \n",
       "4            1203.44  week52             1            1  "
      ]
     },
     "execution_count": 85,
     "metadata": {},
     "output_type": "execute_result"
    }
   ],
   "source": [
    "_nifty.head()"
   ]
  },
  {
   "cell_type": "markdown",
   "metadata": {},
   "source": [
    "#### part-1 3.3"
   ]
  },
  {
   "cell_type": "code",
   "execution_count": 86,
   "metadata": {
    "collapsed": true
   },
   "outputs": [],
   "source": [
    "lr = pd.DataFrame(lr)"
   ]
  },
  {
   "cell_type": "code",
   "execution_count": 87,
   "metadata": {
    "collapsed": true
   },
   "outputs": [],
   "source": [
    "_tcs_infy['Pricing black swan'] = lr"
   ]
  },
  {
   "cell_type": "code",
   "execution_count": 88,
   "metadata": {
    "collapsed": false
   },
   "outputs": [
    {
     "data": {
      "text/html": [
       "<div>\n",
       "<table border=\"1\" class=\"dataframe\">\n",
       "  <thead>\n",
       "    <tr style=\"text-align: right;\">\n",
       "      <th></th>\n",
       "      <th>Symbol</th>\n",
       "      <th>Series</th>\n",
       "      <th>Date</th>\n",
       "      <th>Prev Close</th>\n",
       "      <th>Open Price</th>\n",
       "      <th>High Price</th>\n",
       "      <th>Low Price</th>\n",
       "      <th>Last Price</th>\n",
       "      <th>Close Price</th>\n",
       "      <th>Average Price</th>\n",
       "      <th>Total Traded Quantity</th>\n",
       "      <th>Turnover</th>\n",
       "      <th>No. of Trades</th>\n",
       "      <th>Deliverable Qty</th>\n",
       "      <th>% Dly Qt to Traded Qty</th>\n",
       "      <th>week</th>\n",
       "      <th>Volume_Shock</th>\n",
       "      <th>price_Shock</th>\n",
       "      <th>Pricing black swan</th>\n",
       "    </tr>\n",
       "  </thead>\n",
       "  <tbody>\n",
       "    <tr>\n",
       "      <th>0</th>\n",
       "      <td>TCS</td>\n",
       "      <td>EQ</td>\n",
       "      <td>2015-01-01</td>\n",
       "      <td>2558.25</td>\n",
       "      <td>2567.0</td>\n",
       "      <td>2567.00</td>\n",
       "      <td>2541.00</td>\n",
       "      <td>2550.00</td>\n",
       "      <td>2545.55</td>\n",
       "      <td>2548.51</td>\n",
       "      <td>183415</td>\n",
       "      <td>4.674345e+08</td>\n",
       "      <td>8002</td>\n",
       "      <td>52870</td>\n",
       "      <td>28.83</td>\n",
       "      <td>week4</td>\n",
       "      <td>1</td>\n",
       "      <td>1</td>\n",
       "      <td>1.0</td>\n",
       "    </tr>\n",
       "    <tr>\n",
       "      <th>1</th>\n",
       "      <td>TCS</td>\n",
       "      <td>EQ</td>\n",
       "      <td>2015-01-02</td>\n",
       "      <td>2545.55</td>\n",
       "      <td>2551.0</td>\n",
       "      <td>2590.95</td>\n",
       "      <td>2550.60</td>\n",
       "      <td>2588.40</td>\n",
       "      <td>2579.45</td>\n",
       "      <td>2568.19</td>\n",
       "      <td>462870</td>\n",
       "      <td>1.188740e+09</td>\n",
       "      <td>27585</td>\n",
       "      <td>309350</td>\n",
       "      <td>66.83</td>\n",
       "      <td>week4</td>\n",
       "      <td>1</td>\n",
       "      <td>1</td>\n",
       "      <td>1.0</td>\n",
       "    </tr>\n",
       "    <tr>\n",
       "      <th>2</th>\n",
       "      <td>TCS</td>\n",
       "      <td>EQ</td>\n",
       "      <td>2015-01-05</td>\n",
       "      <td>2579.45</td>\n",
       "      <td>2581.0</td>\n",
       "      <td>2599.90</td>\n",
       "      <td>2524.65</td>\n",
       "      <td>2538.10</td>\n",
       "      <td>2540.25</td>\n",
       "      <td>2563.94</td>\n",
       "      <td>877121</td>\n",
       "      <td>2.248886e+09</td>\n",
       "      <td>43234</td>\n",
       "      <td>456728</td>\n",
       "      <td>52.07</td>\n",
       "      <td>week4</td>\n",
       "      <td>1</td>\n",
       "      <td>1</td>\n",
       "      <td>1.0</td>\n",
       "    </tr>\n",
       "    <tr>\n",
       "      <th>3</th>\n",
       "      <td>TCS</td>\n",
       "      <td>EQ</td>\n",
       "      <td>2015-01-06</td>\n",
       "      <td>2540.25</td>\n",
       "      <td>2529.1</td>\n",
       "      <td>2529.10</td>\n",
       "      <td>2440.00</td>\n",
       "      <td>2450.05</td>\n",
       "      <td>2446.60</td>\n",
       "      <td>2466.90</td>\n",
       "      <td>1211892</td>\n",
       "      <td>2.989615e+09</td>\n",
       "      <td>84503</td>\n",
       "      <td>714306</td>\n",
       "      <td>58.94</td>\n",
       "      <td>week4</td>\n",
       "      <td>1</td>\n",
       "      <td>1</td>\n",
       "      <td>1.0</td>\n",
       "    </tr>\n",
       "    <tr>\n",
       "      <th>4</th>\n",
       "      <td>TCS</td>\n",
       "      <td>EQ</td>\n",
       "      <td>2015-01-07</td>\n",
       "      <td>2446.60</td>\n",
       "      <td>2470.0</td>\n",
       "      <td>2479.15</td>\n",
       "      <td>2407.45</td>\n",
       "      <td>2426.90</td>\n",
       "      <td>2417.70</td>\n",
       "      <td>2433.96</td>\n",
       "      <td>1318166</td>\n",
       "      <td>3.208362e+09</td>\n",
       "      <td>101741</td>\n",
       "      <td>886368</td>\n",
       "      <td>67.24</td>\n",
       "      <td>week4</td>\n",
       "      <td>1</td>\n",
       "      <td>1</td>\n",
       "      <td>1.0</td>\n",
       "    </tr>\n",
       "  </tbody>\n",
       "</table>\n",
       "</div>"
      ],
      "text/plain": [
       "  Symbol Series       Date  Prev Close  Open Price  High Price  Low Price  \\\n",
       "0    TCS     EQ 2015-01-01     2558.25      2567.0     2567.00    2541.00   \n",
       "1    TCS     EQ 2015-01-02     2545.55      2551.0     2590.95    2550.60   \n",
       "2    TCS     EQ 2015-01-05     2579.45      2581.0     2599.90    2524.65   \n",
       "3    TCS     EQ 2015-01-06     2540.25      2529.1     2529.10    2440.00   \n",
       "4    TCS     EQ 2015-01-07     2446.60      2470.0     2479.15    2407.45   \n",
       "\n",
       "   Last Price  Close Price  Average Price  Total Traded Quantity  \\\n",
       "0     2550.00      2545.55        2548.51                 183415   \n",
       "1     2588.40      2579.45        2568.19                 462870   \n",
       "2     2538.10      2540.25        2563.94                 877121   \n",
       "3     2450.05      2446.60        2466.90                1211892   \n",
       "4     2426.90      2417.70        2433.96                1318166   \n",
       "\n",
       "       Turnover  No. of Trades  Deliverable Qty  % Dly Qt to Traded Qty  \\\n",
       "0  4.674345e+08           8002            52870                   28.83   \n",
       "1  1.188740e+09          27585           309350                   66.83   \n",
       "2  2.248886e+09          43234           456728                   52.07   \n",
       "3  2.989615e+09          84503           714306                   58.94   \n",
       "4  3.208362e+09         101741           886368                   67.24   \n",
       "\n",
       "    week  Volume_Shock  price_Shock  Pricing black swan  \n",
       "0  week4             1            1                 1.0  \n",
       "1  week4             1            1                 1.0  \n",
       "2  week4             1            1                 1.0  \n",
       "3  week4             1            1                 1.0  \n",
       "4  week4             1            1                 1.0  "
      ]
     },
     "execution_count": 88,
     "metadata": {},
     "output_type": "execute_result"
    }
   ],
   "source": [
    "_tcs_infy.head()"
   ]
  },
  {
   "cell_type": "code",
   "execution_count": 89,
   "metadata": {
    "collapsed": true
   },
   "outputs": [],
   "source": [
    "lr = pd.DataFrame(lr)"
   ]
  },
  {
   "cell_type": "code",
   "execution_count": 90,
   "metadata": {
    "collapsed": true
   },
   "outputs": [],
   "source": [
    "_nifty['Pricing black swan'] = lr"
   ]
  },
  {
   "cell_type": "code",
   "execution_count": 91,
   "metadata": {
    "collapsed": false
   },
   "outputs": [
    {
     "data": {
      "text/html": [
       "<div>\n",
       "<table border=\"1\" class=\"dataframe\">\n",
       "  <thead>\n",
       "    <tr style=\"text-align: right;\">\n",
       "      <th></th>\n",
       "      <th>Date</th>\n",
       "      <th>Open</th>\n",
       "      <th>High</th>\n",
       "      <th>Low</th>\n",
       "      <th>Close</th>\n",
       "      <th>Shares Traded</th>\n",
       "      <th>Turnover (Rs. Cr)</th>\n",
       "      <th>week</th>\n",
       "      <th>Volume_Shock</th>\n",
       "      <th>price_Shock</th>\n",
       "      <th>Pricing black swan</th>\n",
       "    </tr>\n",
       "  </thead>\n",
       "  <tbody>\n",
       "    <tr>\n",
       "      <th>0</th>\n",
       "      <td>2015-01-01</td>\n",
       "      <td>11214.80</td>\n",
       "      <td>11235.75</td>\n",
       "      <td>11166.35</td>\n",
       "      <td>11215.70</td>\n",
       "      <td>4246150</td>\n",
       "      <td>357.51</td>\n",
       "      <td>week52</td>\n",
       "      <td>1</td>\n",
       "      <td>1</td>\n",
       "      <td>1</td>\n",
       "    </tr>\n",
       "    <tr>\n",
       "      <th>1</th>\n",
       "      <td>2015-01-02</td>\n",
       "      <td>11214.65</td>\n",
       "      <td>11399.10</td>\n",
       "      <td>11214.65</td>\n",
       "      <td>11372.10</td>\n",
       "      <td>10004862</td>\n",
       "      <td>964.56</td>\n",
       "      <td>week52</td>\n",
       "      <td>1</td>\n",
       "      <td>1</td>\n",
       "      <td>1</td>\n",
       "    </tr>\n",
       "    <tr>\n",
       "      <th>2</th>\n",
       "      <td>2015-01-05</td>\n",
       "      <td>11369.35</td>\n",
       "      <td>11433.75</td>\n",
       "      <td>11186.95</td>\n",
       "      <td>11248.55</td>\n",
       "      <td>8858018</td>\n",
       "      <td>1059.00</td>\n",
       "      <td>week52</td>\n",
       "      <td>1</td>\n",
       "      <td>1</td>\n",
       "      <td>1</td>\n",
       "    </tr>\n",
       "    <tr>\n",
       "      <th>3</th>\n",
       "      <td>2015-01-06</td>\n",
       "      <td>11186.10</td>\n",
       "      <td>11186.10</td>\n",
       "      <td>10909.00</td>\n",
       "      <td>10959.90</td>\n",
       "      <td>12515739</td>\n",
       "      <td>1364.50</td>\n",
       "      <td>week52</td>\n",
       "      <td>1</td>\n",
       "      <td>1</td>\n",
       "      <td>1</td>\n",
       "    </tr>\n",
       "    <tr>\n",
       "      <th>4</th>\n",
       "      <td>2015-01-07</td>\n",
       "      <td>11013.20</td>\n",
       "      <td>11042.35</td>\n",
       "      <td>10889.55</td>\n",
       "      <td>10916.00</td>\n",
       "      <td>10976356</td>\n",
       "      <td>1203.44</td>\n",
       "      <td>week52</td>\n",
       "      <td>1</td>\n",
       "      <td>1</td>\n",
       "      <td>1</td>\n",
       "    </tr>\n",
       "  </tbody>\n",
       "</table>\n",
       "</div>"
      ],
      "text/plain": [
       "        Date      Open      High       Low     Close  Shares Traded  \\\n",
       "0 2015-01-01  11214.80  11235.75  11166.35  11215.70        4246150   \n",
       "1 2015-01-02  11214.65  11399.10  11214.65  11372.10       10004862   \n",
       "2 2015-01-05  11369.35  11433.75  11186.95  11248.55        8858018   \n",
       "3 2015-01-06  11186.10  11186.10  10909.00  10959.90       12515739   \n",
       "4 2015-01-07  11013.20  11042.35  10889.55  10916.00       10976356   \n",
       "\n",
       "   Turnover (Rs. Cr)    week  Volume_Shock  price_Shock  Pricing black swan  \n",
       "0             357.51  week52             1            1                   1  \n",
       "1             964.56  week52             1            1                   1  \n",
       "2            1059.00  week52             1            1                   1  \n",
       "3            1364.50  week52             1            1                   1  \n",
       "4            1203.44  week52             1            1                   1  "
      ]
     },
     "execution_count": 91,
     "metadata": {},
     "output_type": "execute_result"
    }
   ],
   "source": [
    "_nifty.head()"
   ]
  },
  {
   "cell_type": "markdown",
   "metadata": {},
   "source": [
    "## Part 2 "
   ]
  },
  {
   "cell_type": "code",
   "execution_count": 95,
   "metadata": {
    "collapsed": false
   },
   "outputs": [
    {
     "data": {
      "text/plain": [
       "['Requirement already satisfied: bokeh in c:\\\\programdata\\\\anaconda3\\\\lib\\\\site-packages',\n",
       " 'You are using pip version 9.0.1, however version 18.1 is available.',\n",
       " \"You should consider upgrading via the 'python -m pip install --upgrade pip' command.\"]"
      ]
     },
     "execution_count": 95,
     "metadata": {},
     "output_type": "execute_result"
    }
   ],
   "source": [
    "%%!\n",
    "pip install bokeh "
   ]
  },
  {
   "cell_type": "code",
   "execution_count": 96,
   "metadata": {
    "collapsed": true
   },
   "outputs": [],
   "source": [
    "import bokeh # trial"
   ]
  },
  {
   "cell_type": "code",
   "execution_count": 239,
   "metadata": {
    "collapsed": false
   },
   "outputs": [],
   "source": [
    "vis_tcs_infy  = pd.read_csv(r\"C:\\Users\\Acer\\tcsinfy.csv\")"
   ]
  },
  {
   "cell_type": "code",
   "execution_count": 240,
   "metadata": {
    "collapsed": true
   },
   "outputs": [],
   "source": [
    "vis_nifty_it = pd.read_csv(r\"C:\\Users\\Acer\\nifty.csv\")"
   ]
  },
  {
   "cell_type": "code",
   "execution_count": 243,
   "metadata": {
    "collapsed": false
   },
   "outputs": [
    {
     "data": {
      "text/html": [
       "<div>\n",
       "<table border=\"1\" class=\"dataframe\">\n",
       "  <thead>\n",
       "    <tr style=\"text-align: right;\">\n",
       "      <th></th>\n",
       "      <th>Unnamed: 0</th>\n",
       "      <th>Symbol</th>\n",
       "      <th>Series</th>\n",
       "      <th>Date</th>\n",
       "      <th>Prev Close</th>\n",
       "      <th>Open Price</th>\n",
       "      <th>High Price</th>\n",
       "      <th>Low Price</th>\n",
       "      <th>Last Price</th>\n",
       "      <th>Close Price</th>\n",
       "      <th>Average Price</th>\n",
       "      <th>Total Traded Quantity</th>\n",
       "      <th>Turnover</th>\n",
       "      <th>No. of Trades</th>\n",
       "      <th>Deliverable Qty</th>\n",
       "      <th>% Dly Qt to Traded Qty</th>\n",
       "      <th>week</th>\n",
       "      <th>week_num</th>\n",
       "    </tr>\n",
       "  </thead>\n",
       "  <tbody>\n",
       "    <tr>\n",
       "      <th>0</th>\n",
       "      <td>0</td>\n",
       "      <td>TCS</td>\n",
       "      <td>EQ</td>\n",
       "      <td>1/1/2015</td>\n",
       "      <td>2558.25</td>\n",
       "      <td>2567.0</td>\n",
       "      <td>2567.00</td>\n",
       "      <td>2541.00</td>\n",
       "      <td>2550.00</td>\n",
       "      <td>2545.55</td>\n",
       "      <td>2548.51</td>\n",
       "      <td>183415</td>\n",
       "      <td>4.674345e+08</td>\n",
       "      <td>8002</td>\n",
       "      <td>52870</td>\n",
       "      <td>28.83</td>\n",
       "      <td>week 4</td>\n",
       "      <td>4</td>\n",
       "    </tr>\n",
       "    <tr>\n",
       "      <th>1</th>\n",
       "      <td>1</td>\n",
       "      <td>TCS</td>\n",
       "      <td>EQ</td>\n",
       "      <td>1/2/2015</td>\n",
       "      <td>2545.55</td>\n",
       "      <td>2551.0</td>\n",
       "      <td>2590.95</td>\n",
       "      <td>2550.60</td>\n",
       "      <td>2588.40</td>\n",
       "      <td>2579.45</td>\n",
       "      <td>2568.19</td>\n",
       "      <td>462870</td>\n",
       "      <td>1.188740e+09</td>\n",
       "      <td>27585</td>\n",
       "      <td>309350</td>\n",
       "      <td>66.83</td>\n",
       "      <td>week 4</td>\n",
       "      <td>4</td>\n",
       "    </tr>\n",
       "    <tr>\n",
       "      <th>2</th>\n",
       "      <td>2</td>\n",
       "      <td>TCS</td>\n",
       "      <td>EQ</td>\n",
       "      <td>1/5/2015</td>\n",
       "      <td>2579.45</td>\n",
       "      <td>2581.0</td>\n",
       "      <td>2599.90</td>\n",
       "      <td>2524.65</td>\n",
       "      <td>2538.10</td>\n",
       "      <td>2540.25</td>\n",
       "      <td>2563.94</td>\n",
       "      <td>877121</td>\n",
       "      <td>2.248886e+09</td>\n",
       "      <td>43234</td>\n",
       "      <td>456728</td>\n",
       "      <td>52.07</td>\n",
       "      <td>week 4</td>\n",
       "      <td>4</td>\n",
       "    </tr>\n",
       "    <tr>\n",
       "      <th>3</th>\n",
       "      <td>3</td>\n",
       "      <td>TCS</td>\n",
       "      <td>EQ</td>\n",
       "      <td>1/6/2015</td>\n",
       "      <td>2540.25</td>\n",
       "      <td>2529.1</td>\n",
       "      <td>2529.10</td>\n",
       "      <td>2440.00</td>\n",
       "      <td>2450.05</td>\n",
       "      <td>2446.60</td>\n",
       "      <td>2466.90</td>\n",
       "      <td>1211892</td>\n",
       "      <td>2.989615e+09</td>\n",
       "      <td>84503</td>\n",
       "      <td>714306</td>\n",
       "      <td>58.94</td>\n",
       "      <td>week 4</td>\n",
       "      <td>4</td>\n",
       "    </tr>\n",
       "    <tr>\n",
       "      <th>4</th>\n",
       "      <td>4</td>\n",
       "      <td>TCS</td>\n",
       "      <td>EQ</td>\n",
       "      <td>1/7/2015</td>\n",
       "      <td>2446.60</td>\n",
       "      <td>2470.0</td>\n",
       "      <td>2479.15</td>\n",
       "      <td>2407.45</td>\n",
       "      <td>2426.90</td>\n",
       "      <td>2417.70</td>\n",
       "      <td>2433.96</td>\n",
       "      <td>1318166</td>\n",
       "      <td>3.208362e+09</td>\n",
       "      <td>101741</td>\n",
       "      <td>886368</td>\n",
       "      <td>67.24</td>\n",
       "      <td>week 4</td>\n",
       "      <td>4</td>\n",
       "    </tr>\n",
       "  </tbody>\n",
       "</table>\n",
       "</div>"
      ],
      "text/plain": [
       "   Unnamed: 0 Symbol Series      Date  Prev Close  Open Price  High Price  \\\n",
       "0           0    TCS     EQ  1/1/2015     2558.25      2567.0     2567.00   \n",
       "1           1    TCS     EQ  1/2/2015     2545.55      2551.0     2590.95   \n",
       "2           2    TCS     EQ  1/5/2015     2579.45      2581.0     2599.90   \n",
       "3           3    TCS     EQ  1/6/2015     2540.25      2529.1     2529.10   \n",
       "4           4    TCS     EQ  1/7/2015     2446.60      2470.0     2479.15   \n",
       "\n",
       "   Low Price  Last Price  Close Price  Average Price  Total Traded Quantity  \\\n",
       "0    2541.00     2550.00      2545.55        2548.51                 183415   \n",
       "1    2550.60     2588.40      2579.45        2568.19                 462870   \n",
       "2    2524.65     2538.10      2540.25        2563.94                 877121   \n",
       "3    2440.00     2450.05      2446.60        2466.90                1211892   \n",
       "4    2407.45     2426.90      2417.70        2433.96                1318166   \n",
       "\n",
       "       Turnover  No. of Trades  Deliverable Qty  % Dly Qt to Traded Qty  \\\n",
       "0  4.674345e+08           8002            52870                   28.83   \n",
       "1  1.188740e+09          27585           309350                   66.83   \n",
       "2  2.248886e+09          43234           456728                   52.07   \n",
       "3  2.989615e+09          84503           714306                   58.94   \n",
       "4  3.208362e+09         101741           886368                   67.24   \n",
       "\n",
       "     week  week_num  \n",
       "0  week 4         4  \n",
       "1  week 4         4  \n",
       "2  week 4         4  \n",
       "3  week 4         4  \n",
       "4  week 4         4  "
      ]
     },
     "execution_count": 243,
     "metadata": {},
     "output_type": "execute_result"
    }
   ],
   "source": [
    "vis_tcs_infy.head() "
   ]
  },
  {
   "cell_type": "code",
   "execution_count": 242,
   "metadata": {
    "collapsed": false
   },
   "outputs": [
    {
     "data": {
      "text/html": [
       "<div>\n",
       "<table border=\"1\" class=\"dataframe\">\n",
       "  <thead>\n",
       "    <tr style=\"text-align: right;\">\n",
       "      <th></th>\n",
       "      <th>Unnamed: 0</th>\n",
       "      <th>Date</th>\n",
       "      <th>Open</th>\n",
       "      <th>High</th>\n",
       "      <th>Low</th>\n",
       "      <th>Close</th>\n",
       "      <th>Shares Traded</th>\n",
       "      <th>Turnover (Rs. Cr)</th>\n",
       "      <th>week</th>\n",
       "      <th>week_num</th>\n",
       "    </tr>\n",
       "  </thead>\n",
       "  <tbody>\n",
       "    <tr>\n",
       "      <th>0</th>\n",
       "      <td>247</td>\n",
       "      <td>12/31/2015</td>\n",
       "      <td>11113.00</td>\n",
       "      <td>11233.85</td>\n",
       "      <td>11113.00</td>\n",
       "      <td>11212.55</td>\n",
       "      <td>8197040</td>\n",
       "      <td>859.05</td>\n",
       "      <td>week 52</td>\n",
       "      <td>52</td>\n",
       "    </tr>\n",
       "    <tr>\n",
       "      <th>1</th>\n",
       "      <td>246</td>\n",
       "      <td>12/30/2015</td>\n",
       "      <td>11247.35</td>\n",
       "      <td>11263.60</td>\n",
       "      <td>11100.10</td>\n",
       "      <td>11117.60</td>\n",
       "      <td>6564991</td>\n",
       "      <td>707.19</td>\n",
       "      <td>week 52</td>\n",
       "      <td>52</td>\n",
       "    </tr>\n",
       "    <tr>\n",
       "      <th>2</th>\n",
       "      <td>245</td>\n",
       "      <td>12/29/2015</td>\n",
       "      <td>11257.05</td>\n",
       "      <td>11287.50</td>\n",
       "      <td>11206.60</td>\n",
       "      <td>11253.45</td>\n",
       "      <td>6024174</td>\n",
       "      <td>662.62</td>\n",
       "      <td>week 52</td>\n",
       "      <td>52</td>\n",
       "    </tr>\n",
       "    <tr>\n",
       "      <th>3</th>\n",
       "      <td>244</td>\n",
       "      <td>12/28/2015</td>\n",
       "      <td>11152.70</td>\n",
       "      <td>11303.05</td>\n",
       "      <td>11146.85</td>\n",
       "      <td>11271.80</td>\n",
       "      <td>8055590</td>\n",
       "      <td>1001.90</td>\n",
       "      <td>week 52</td>\n",
       "      <td>52</td>\n",
       "    </tr>\n",
       "    <tr>\n",
       "      <th>4</th>\n",
       "      <td>243</td>\n",
       "      <td>12/24/2015</td>\n",
       "      <td>11193.25</td>\n",
       "      <td>11197.50</td>\n",
       "      <td>11152.85</td>\n",
       "      <td>11184.90</td>\n",
       "      <td>2927864</td>\n",
       "      <td>318.27</td>\n",
       "      <td>week 52</td>\n",
       "      <td>52</td>\n",
       "    </tr>\n",
       "  </tbody>\n",
       "</table>\n",
       "</div>"
      ],
      "text/plain": [
       "   Unnamed: 0        Date      Open      High       Low     Close  \\\n",
       "0         247  12/31/2015  11113.00  11233.85  11113.00  11212.55   \n",
       "1         246  12/30/2015  11247.35  11263.60  11100.10  11117.60   \n",
       "2         245  12/29/2015  11257.05  11287.50  11206.60  11253.45   \n",
       "3         244  12/28/2015  11152.70  11303.05  11146.85  11271.80   \n",
       "4         243  12/24/2015  11193.25  11197.50  11152.85  11184.90   \n",
       "\n",
       "   Shares Traded  Turnover (Rs. Cr)     week  week_num  \n",
       "0        8197040             859.05  week 52        52  \n",
       "1        6564991             707.19  week 52        52  \n",
       "2        6024174             662.62  week 52        52  \n",
       "3        8055590            1001.90  week 52        52  \n",
       "4        2927864             318.27  week 52        52  "
      ]
     },
     "execution_count": 242,
     "metadata": {},
     "output_type": "execute_result"
    }
   ],
   "source": [
    "vis_nifty_it.head()"
   ]
  },
  {
   "cell_type": "code",
   "execution_count": 244,
   "metadata": {
    "collapsed": false
   },
   "outputs": [
    {
     "data": {
      "text/plain": [
       "Index(['Unnamed: 0', 'Symbol', 'Series', 'Date', 'Prev Close', 'Open Price',\n",
       "       'High Price', 'Low Price', 'Last Price', 'Close Price', 'Average Price',\n",
       "       'Total Traded Quantity', 'Turnover', 'No. of Trades', 'Deliverable Qty',\n",
       "       '% Dly Qt to Traded Qty', 'week', 'week_num'],\n",
       "      dtype='object')"
      ]
     },
     "execution_count": 244,
     "metadata": {},
     "output_type": "execute_result"
    }
   ],
   "source": [
    "vis_tcs_infy.columns"
   ]
  },
  {
   "cell_type": "code",
   "execution_count": 246,
   "metadata": {
    "collapsed": false
   },
   "outputs": [
    {
     "data": {
      "text/plain": [
       "Index(['Unnamed: 0', 'Date', 'Open', 'High', 'Low', 'Close', 'Shares Traded',\n",
       "       'Turnover (Rs. Cr)', 'week', 'week_num'],\n",
       "      dtype='object')"
      ]
     },
     "execution_count": 246,
     "metadata": {},
     "output_type": "execute_result"
    }
   ],
   "source": [
    "vis_nifty_it.columns"
   ]
  },
  {
   "cell_type": "code",
   "execution_count": 247,
   "metadata": {
    "collapsed": true
   },
   "outputs": [],
   "source": [
    "from bokeh.plotting import figure, show, output_file, output_notebook\n",
    "from bokeh.palettes import Spectral11, colorblind, Inferno, BuGn, brewer\n",
    "from bokeh.models import HoverTool, value, LabelSet, Legend, ColumnDataSource,LinearColorMapper,BasicTicker, PrintfTickFormatter, ColorBar"
   ]
  },
  {
   "cell_type": "code",
   "execution_count": 250,
   "metadata": {
    "collapsed": false
   },
   "outputs": [],
   "source": [
    "command = \"hover,save,pan,box_zoom,reset,wheel_zoom,tap\"\n",
    "p = figure(plot_height=350,\n",
    "    title=\"timeseries plot of close prices of stocks\",\n",
    "    tools=command,\n",
    "    toolbar_location='above')\n",
    "\n",
    "p.vbar(x=vis_nifty_it[\"week_num\"], top=vis_nifty_it[\"Close\"], width=0.9)\n",
    "\n",
    "p.y_range.start = 0\n",
    "p.x_range.range_padding = 0.1\n",
    "p.xgrid.grid_line_color = None\n",
    "p.axis.minor_tick_line_color = None\n",
    "p.outline_line_color = None\n",
    "p.xaxis.axis_label = 'week_num'\n",
    "p.yaxis.axis_label = 'Close Prices'\n",
    "p.select_one(HoverTool).tooltips = [\n",
    "    ('week_num', '@x'),\n",
    "    ('Close Prices', '@top')\n",
    "    \n",
    "]\n",
    "show(p)"
   ]
  },
  {
   "cell_type": "code",
   "execution_count": 251,
   "metadata": {
    "collapsed": true
   },
   "outputs": [],
   "source": [
    "command = \"hover,save,pan,box_zoom,reset,wheel_zoom,tap\"\n",
    "p = figure(plot_height=350,\n",
    "    title=\"timeseries plot of close prices of stocks\",\n",
    "    tools=command,\n",
    "    toolbar_location='above')\n",
    "\n",
    "p.vbar(x=vis_tcs_infy[\"week_num\"], top=vis_tcs_infy[\"Close Price\"], width=0.9)\n",
    "\n",
    "p.y_range.start = 0\n",
    "p.x_range.range_padding = 0.1\n",
    "p.xgrid.grid_line_color = None\n",
    "p.axis.minor_tick_line_color = None\n",
    "p.outline_line_color = None\n",
    "p.xaxis.axis_label = 'week_num'\n",
    "p.yaxis.axis_label = 'Close Prices'\n",
    "p.select_one(HoverTool).tooltips = [\n",
    "    ('week_num', '@x'),\n",
    "    ('Close Prices', '@top')\n",
    "    \n",
    "]\n",
    "show(p)"
   ]
  },
  {
   "cell_type": "markdown",
   "metadata": {},
   "source": [
    "#### Part 3 (Optional)"
   ]
  },
  {
   "cell_type": "markdown",
   "metadata": {},
   "source": [
    "# Modelling "
   ]
  },
  {
   "cell_type": "code",
   "execution_count": 220,
   "metadata": {
    "collapsed": true
   },
   "outputs": [],
   "source": [
    "import pandas as pd\n",
    "import numpy as np\n",
    "import matplotlib.pyplot as plt\n",
    "import seaborn as sns\n",
    "%matplotlib inline"
   ]
  },
  {
   "cell_type": "code",
   "execution_count": 221,
   "metadata": {
    "collapsed": true
   },
   "outputs": [],
   "source": [
    "model = pd.read_csv(r\"C:\\Users\\Acer\\Desktop\\01-01-2015-TO-31-12-2015TCS&INFY.csv 1.csv\")"
   ]
  },
  {
   "cell_type": "code",
   "execution_count": 222,
   "metadata": {
    "collapsed": false
   },
   "outputs": [
    {
     "data": {
      "text/html": [
       "<div>\n",
       "<table border=\"1\" class=\"dataframe\">\n",
       "  <thead>\n",
       "    <tr style=\"text-align: right;\">\n",
       "      <th></th>\n",
       "      <th>Symbol</th>\n",
       "      <th>Series</th>\n",
       "      <th>Date</th>\n",
       "      <th>Prev Close</th>\n",
       "      <th>Open Price</th>\n",
       "      <th>High Price</th>\n",
       "      <th>Low Price</th>\n",
       "      <th>Last Price</th>\n",
       "      <th>Close Price</th>\n",
       "      <th>Average Price</th>\n",
       "      <th>Total Traded Quantity</th>\n",
       "      <th>Turnover</th>\n",
       "      <th>No. of Trades</th>\n",
       "      <th>Deliverable Qty</th>\n",
       "      <th>% Dly Qt to Traded Qty</th>\n",
       "    </tr>\n",
       "  </thead>\n",
       "  <tbody>\n",
       "    <tr>\n",
       "      <th>0</th>\n",
       "      <td>TCS</td>\n",
       "      <td>EQ</td>\n",
       "      <td>1-Jan-15</td>\n",
       "      <td>2558.25</td>\n",
       "      <td>2567.0</td>\n",
       "      <td>2567.00</td>\n",
       "      <td>2541.00</td>\n",
       "      <td>2550.00</td>\n",
       "      <td>2545.55</td>\n",
       "      <td>2548.51</td>\n",
       "      <td>183415</td>\n",
       "      <td>4.674345e+08</td>\n",
       "      <td>8002</td>\n",
       "      <td>52870</td>\n",
       "      <td>28.83</td>\n",
       "    </tr>\n",
       "    <tr>\n",
       "      <th>1</th>\n",
       "      <td>TCS</td>\n",
       "      <td>EQ</td>\n",
       "      <td>2-Jan-15</td>\n",
       "      <td>2545.55</td>\n",
       "      <td>2551.0</td>\n",
       "      <td>2590.95</td>\n",
       "      <td>2550.60</td>\n",
       "      <td>2588.40</td>\n",
       "      <td>2579.45</td>\n",
       "      <td>2568.19</td>\n",
       "      <td>462870</td>\n",
       "      <td>1.188740e+09</td>\n",
       "      <td>27585</td>\n",
       "      <td>309350</td>\n",
       "      <td>66.83</td>\n",
       "    </tr>\n",
       "    <tr>\n",
       "      <th>2</th>\n",
       "      <td>TCS</td>\n",
       "      <td>EQ</td>\n",
       "      <td>5-Jan-15</td>\n",
       "      <td>2579.45</td>\n",
       "      <td>2581.0</td>\n",
       "      <td>2599.90</td>\n",
       "      <td>2524.65</td>\n",
       "      <td>2538.10</td>\n",
       "      <td>2540.25</td>\n",
       "      <td>2563.94</td>\n",
       "      <td>877121</td>\n",
       "      <td>2.248886e+09</td>\n",
       "      <td>43234</td>\n",
       "      <td>456728</td>\n",
       "      <td>52.07</td>\n",
       "    </tr>\n",
       "    <tr>\n",
       "      <th>3</th>\n",
       "      <td>TCS</td>\n",
       "      <td>EQ</td>\n",
       "      <td>6-Jan-15</td>\n",
       "      <td>2540.25</td>\n",
       "      <td>2529.1</td>\n",
       "      <td>2529.10</td>\n",
       "      <td>2440.00</td>\n",
       "      <td>2450.05</td>\n",
       "      <td>2446.60</td>\n",
       "      <td>2466.90</td>\n",
       "      <td>1211892</td>\n",
       "      <td>2.989615e+09</td>\n",
       "      <td>84503</td>\n",
       "      <td>714306</td>\n",
       "      <td>58.94</td>\n",
       "    </tr>\n",
       "    <tr>\n",
       "      <th>4</th>\n",
       "      <td>TCS</td>\n",
       "      <td>EQ</td>\n",
       "      <td>7-Jan-15</td>\n",
       "      <td>2446.60</td>\n",
       "      <td>2470.0</td>\n",
       "      <td>2479.15</td>\n",
       "      <td>2407.45</td>\n",
       "      <td>2426.90</td>\n",
       "      <td>2417.70</td>\n",
       "      <td>2433.96</td>\n",
       "      <td>1318166</td>\n",
       "      <td>3.208362e+09</td>\n",
       "      <td>101741</td>\n",
       "      <td>886368</td>\n",
       "      <td>67.24</td>\n",
       "    </tr>\n",
       "  </tbody>\n",
       "</table>\n",
       "</div>"
      ],
      "text/plain": [
       "  Symbol Series      Date  Prev Close  Open Price  High Price  Low Price  \\\n",
       "0    TCS     EQ  1-Jan-15     2558.25      2567.0     2567.00    2541.00   \n",
       "1    TCS     EQ  2-Jan-15     2545.55      2551.0     2590.95    2550.60   \n",
       "2    TCS     EQ  5-Jan-15     2579.45      2581.0     2599.90    2524.65   \n",
       "3    TCS     EQ  6-Jan-15     2540.25      2529.1     2529.10    2440.00   \n",
       "4    TCS     EQ  7-Jan-15     2446.60      2470.0     2479.15    2407.45   \n",
       "\n",
       "   Last Price  Close Price  Average Price  Total Traded Quantity  \\\n",
       "0     2550.00      2545.55        2548.51                 183415   \n",
       "1     2588.40      2579.45        2568.19                 462870   \n",
       "2     2538.10      2540.25        2563.94                 877121   \n",
       "3     2450.05      2446.60        2466.90                1211892   \n",
       "4     2426.90      2417.70        2433.96                1318166   \n",
       "\n",
       "       Turnover  No. of Trades  Deliverable Qty  % Dly Qt to Traded Qty  \n",
       "0  4.674345e+08           8002            52870                   28.83  \n",
       "1  1.188740e+09          27585           309350                   66.83  \n",
       "2  2.248886e+09          43234           456728                   52.07  \n",
       "3  2.989615e+09          84503           714306                   58.94  \n",
       "4  3.208362e+09         101741           886368                   67.24  "
      ]
     },
     "execution_count": 222,
     "metadata": {},
     "output_type": "execute_result"
    }
   ],
   "source": [
    "model.head()"
   ]
  },
  {
   "cell_type": "code",
   "execution_count": 223,
   "metadata": {
    "collapsed": false
   },
   "outputs": [
    {
     "name": "stdout",
     "output_type": "stream",
     "text": [
      "<class 'pandas.core.frame.DataFrame'>\n",
      "RangeIndex: 498 entries, 0 to 497\n",
      "Data columns (total 15 columns):\n",
      "Symbol                    498 non-null object\n",
      "Series                    498 non-null object\n",
      "Date                      498 non-null object\n",
      "Prev Close                498 non-null float64\n",
      "Open Price                498 non-null float64\n",
      "High Price                498 non-null float64\n",
      "Low Price                 498 non-null float64\n",
      "Last Price                498 non-null float64\n",
      "Close Price               498 non-null float64\n",
      "Average Price             498 non-null float64\n",
      "Total Traded Quantity     498 non-null int64\n",
      "Turnover                  498 non-null float64\n",
      "No. of Trades             498 non-null int64\n",
      "Deliverable Qty           498 non-null int64\n",
      "% Dly Qt to Traded Qty    498 non-null float64\n",
      "dtypes: float64(9), int64(3), object(3)\n",
      "memory usage: 58.4+ KB\n"
     ]
    },
    {
     "data": {
      "text/html": [
       "<div>\n",
       "<table border=\"1\" class=\"dataframe\">\n",
       "  <thead>\n",
       "    <tr style=\"text-align: right;\">\n",
       "      <th></th>\n",
       "      <th>Prev Close</th>\n",
       "      <th>Open Price</th>\n",
       "      <th>High Price</th>\n",
       "      <th>Low Price</th>\n",
       "      <th>Last Price</th>\n",
       "      <th>Close Price</th>\n",
       "      <th>Average Price</th>\n",
       "      <th>Total Traded Quantity</th>\n",
       "      <th>Turnover</th>\n",
       "      <th>No. of Trades</th>\n",
       "      <th>Deliverable Qty</th>\n",
       "      <th>% Dly Qt to Traded Qty</th>\n",
       "    </tr>\n",
       "  </thead>\n",
       "  <tbody>\n",
       "    <tr>\n",
       "      <th>count</th>\n",
       "      <td>498.000000</td>\n",
       "      <td>498.000000</td>\n",
       "      <td>498.000000</td>\n",
       "      <td>498.000000</td>\n",
       "      <td>498.000000</td>\n",
       "      <td>498.000000</td>\n",
       "      <td>498.000000</td>\n",
       "      <td>4.980000e+02</td>\n",
       "      <td>4.980000e+02</td>\n",
       "      <td>498.000000</td>\n",
       "      <td>4.980000e+02</td>\n",
       "      <td>498.000000</td>\n",
       "    </tr>\n",
       "    <tr>\n",
       "      <th>mean</th>\n",
       "      <td>2043.094779</td>\n",
       "      <td>2047.640261</td>\n",
       "      <td>2066.149297</td>\n",
       "      <td>2023.644378</td>\n",
       "      <td>2044.375904</td>\n",
       "      <td>2044.162550</td>\n",
       "      <td>2044.595582</td>\n",
       "      <td>2.070211e+06</td>\n",
       "      <td>3.594301e+09</td>\n",
       "      <td>79453.941767</td>\n",
       "      <td>1.363844e+06</td>\n",
       "      <td>66.565281</td>\n",
       "    </tr>\n",
       "    <tr>\n",
       "      <th>std</th>\n",
       "      <td>622.985417</td>\n",
       "      <td>624.273670</td>\n",
       "      <td>628.433114</td>\n",
       "      <td>618.402416</td>\n",
       "      <td>623.091451</td>\n",
       "      <td>623.010499</td>\n",
       "      <td>622.958112</td>\n",
       "      <td>1.759975e+06</td>\n",
       "      <td>2.304106e+09</td>\n",
       "      <td>43309.473159</td>\n",
       "      <td>1.019966e+06</td>\n",
       "      <td>9.430002</td>\n",
       "    </tr>\n",
       "    <tr>\n",
       "      <th>min</th>\n",
       "      <td>937.500000</td>\n",
       "      <td>941.000000</td>\n",
       "      <td>952.100000</td>\n",
       "      <td>932.650000</td>\n",
       "      <td>935.500000</td>\n",
       "      <td>937.500000</td>\n",
       "      <td>941.180000</td>\n",
       "      <td>4.986500e+04</td>\n",
       "      <td>1.298584e+08</td>\n",
       "      <td>1.000000</td>\n",
       "      <td>0.000000e+00</td>\n",
       "      <td>0.000000</td>\n",
       "    </tr>\n",
       "    <tr>\n",
       "      <th>25%</th>\n",
       "      <td>1149.525000</td>\n",
       "      <td>1150.000000</td>\n",
       "      <td>1162.425000</td>\n",
       "      <td>1132.575000</td>\n",
       "      <td>1147.625000</td>\n",
       "      <td>1149.525000</td>\n",
       "      <td>1147.160000</td>\n",
       "      <td>1.002918e+06</td>\n",
       "      <td>2.320811e+09</td>\n",
       "      <td>53267.750000</td>\n",
       "      <td>6.762732e+05</td>\n",
       "      <td>61.490000</td>\n",
       "    </tr>\n",
       "    <tr>\n",
       "      <th>50%</th>\n",
       "      <td>2318.700000</td>\n",
       "      <td>2323.950000</td>\n",
       "      <td>2339.950000</td>\n",
       "      <td>2303.650000</td>\n",
       "      <td>2322.100000</td>\n",
       "      <td>2322.250000</td>\n",
       "      <td>2322.220000</td>\n",
       "      <td>1.586690e+06</td>\n",
       "      <td>3.145607e+09</td>\n",
       "      <td>72291.000000</td>\n",
       "      <td>1.064716e+06</td>\n",
       "      <td>68.115000</td>\n",
       "    </tr>\n",
       "    <tr>\n",
       "      <th>75%</th>\n",
       "      <td>2542.062500</td>\n",
       "      <td>2548.750000</td>\n",
       "      <td>2566.500000</td>\n",
       "      <td>2520.000000</td>\n",
       "      <td>2540.225000</td>\n",
       "      <td>2542.062500</td>\n",
       "      <td>2540.482500</td>\n",
       "      <td>2.608385e+06</td>\n",
       "      <td>4.285333e+09</td>\n",
       "      <td>94810.250000</td>\n",
       "      <td>1.770661e+06</td>\n",
       "      <td>72.422500</td>\n",
       "    </tr>\n",
       "    <tr>\n",
       "      <th>max</th>\n",
       "      <td>2776.000000</td>\n",
       "      <td>2788.000000</td>\n",
       "      <td>2812.100000</td>\n",
       "      <td>2721.900000</td>\n",
       "      <td>2785.100000</td>\n",
       "      <td>2776.000000</td>\n",
       "      <td>2763.040000</td>\n",
       "      <td>1.915506e+07</td>\n",
       "      <td>2.285439e+10</td>\n",
       "      <td>408583.000000</td>\n",
       "      <td>9.575992e+06</td>\n",
       "      <td>100.000000</td>\n",
       "    </tr>\n",
       "  </tbody>\n",
       "</table>\n",
       "</div>"
      ],
      "text/plain": [
       "        Prev Close   Open Price   High Price    Low Price   Last Price  \\\n",
       "count   498.000000   498.000000   498.000000   498.000000   498.000000   \n",
       "mean   2043.094779  2047.640261  2066.149297  2023.644378  2044.375904   \n",
       "std     622.985417   624.273670   628.433114   618.402416   623.091451   \n",
       "min     937.500000   941.000000   952.100000   932.650000   935.500000   \n",
       "25%    1149.525000  1150.000000  1162.425000  1132.575000  1147.625000   \n",
       "50%    2318.700000  2323.950000  2339.950000  2303.650000  2322.100000   \n",
       "75%    2542.062500  2548.750000  2566.500000  2520.000000  2540.225000   \n",
       "max    2776.000000  2788.000000  2812.100000  2721.900000  2785.100000   \n",
       "\n",
       "       Close Price  Average Price  Total Traded Quantity      Turnover  \\\n",
       "count   498.000000     498.000000           4.980000e+02  4.980000e+02   \n",
       "mean   2044.162550    2044.595582           2.070211e+06  3.594301e+09   \n",
       "std     623.010499     622.958112           1.759975e+06  2.304106e+09   \n",
       "min     937.500000     941.180000           4.986500e+04  1.298584e+08   \n",
       "25%    1149.525000    1147.160000           1.002918e+06  2.320811e+09   \n",
       "50%    2322.250000    2322.220000           1.586690e+06  3.145607e+09   \n",
       "75%    2542.062500    2540.482500           2.608385e+06  4.285333e+09   \n",
       "max    2776.000000    2763.040000           1.915506e+07  2.285439e+10   \n",
       "\n",
       "       No. of Trades  Deliverable Qty  % Dly Qt to Traded Qty  \n",
       "count     498.000000     4.980000e+02              498.000000  \n",
       "mean    79453.941767     1.363844e+06               66.565281  \n",
       "std     43309.473159     1.019966e+06                9.430002  \n",
       "min         1.000000     0.000000e+00                0.000000  \n",
       "25%     53267.750000     6.762732e+05               61.490000  \n",
       "50%     72291.000000     1.064716e+06               68.115000  \n",
       "75%     94810.250000     1.770661e+06               72.422500  \n",
       "max    408583.000000     9.575992e+06              100.000000  "
      ]
     },
     "execution_count": 223,
     "metadata": {},
     "output_type": "execute_result"
    }
   ],
   "source": [
    "model.info()\n",
    "model.describe()"
   ]
  },
  {
   "cell_type": "code",
   "execution_count": 225,
   "metadata": {
    "collapsed": false
   },
   "outputs": [
    {
     "data": {
      "text/plain": [
       "Index(['Symbol', 'Series', 'Date', 'Prev Close', 'Open Price', 'High Price',\n",
       "       'Low Price', 'Last Price', 'Close Price', 'Average Price',\n",
       "       'Total Traded Quantity', 'Turnover', 'No. of Trades', 'Deliverable Qty',\n",
       "       '% Dly Qt to Traded Qty'],\n",
       "      dtype='object')"
      ]
     },
     "execution_count": 225,
     "metadata": {},
     "output_type": "execute_result"
    }
   ],
   "source": [
    "model.columns"
   ]
  },
  {
   "cell_type": "code",
   "execution_count": 226,
   "metadata": {
    "collapsed": true
   },
   "outputs": [],
   "source": [
    "x = model[['Prev Close', 'High Price','Low Price', 'Last Price', 'Close Price', 'Average Price','Total Traded Quantity', 'Turnover', 'No. of Trades', 'Deliverable Qty']]\n",
    "y = model['Open Price']"
   ]
  },
  {
   "cell_type": "code",
   "execution_count": 240,
   "metadata": {
    "collapsed": false
   },
   "outputs": [],
   "source": [
    "from sklearn.model_selection import train_test_split"
   ]
  },
  {
   "cell_type": "code",
   "execution_count": 242,
   "metadata": {
    "collapsed": false
   },
   "outputs": [],
   "source": [
    "X_train, X_test, y_train, y_test = train_test_split(x, y, test_size=0.4, random_state=101)"
   ]
  },
  {
   "cell_type": "code",
   "execution_count": 243,
   "metadata": {
    "collapsed": true
   },
   "outputs": [],
   "source": [
    "from sklearn.linear_model import LinearRegression"
   ]
  },
  {
   "cell_type": "code",
   "execution_count": 244,
   "metadata": {
    "collapsed": true
   },
   "outputs": [],
   "source": [
    "lm = LinearRegression()"
   ]
  },
  {
   "cell_type": "code",
   "execution_count": 245,
   "metadata": {
    "collapsed": false
   },
   "outputs": [
    {
     "data": {
      "text/plain": [
       "LinearRegression(copy_X=True, fit_intercept=True, n_jobs=1, normalize=False)"
      ]
     },
     "execution_count": 245,
     "metadata": {},
     "output_type": "execute_result"
    }
   ],
   "source": [
    "lm.fit(X_train,y_train)"
   ]
  },
  {
   "cell_type": "code",
   "execution_count": 246,
   "metadata": {
    "collapsed": false
   },
   "outputs": [
    {
     "name": "stdout",
     "output_type": "stream",
     "text": [
      "4.25995441816\n"
     ]
    }
   ],
   "source": [
    "print(lm.intercept_)"
   ]
  },
  {
   "cell_type": "code",
   "execution_count": 248,
   "metadata": {
    "collapsed": false
   },
   "outputs": [
    {
     "data": {
      "text/html": [
       "<div>\n",
       "<table border=\"1\" class=\"dataframe\">\n",
       "  <thead>\n",
       "    <tr style=\"text-align: right;\">\n",
       "      <th></th>\n",
       "      <th>Coefficient</th>\n",
       "    </tr>\n",
       "  </thead>\n",
       "  <tbody>\n",
       "    <tr>\n",
       "      <th>Prev Close</th>\n",
       "      <td>3.302880e-02</td>\n",
       "    </tr>\n",
       "    <tr>\n",
       "      <th>High Price</th>\n",
       "      <td>1.099763e+00</td>\n",
       "    </tr>\n",
       "    <tr>\n",
       "      <th>Low Price</th>\n",
       "      <td>1.096498e+00</td>\n",
       "    </tr>\n",
       "    <tr>\n",
       "      <th>Last Price</th>\n",
       "      <td>-2.602347e-02</td>\n",
       "    </tr>\n",
       "    <tr>\n",
       "      <th>Close Price</th>\n",
       "      <td>-6.093215e-01</td>\n",
       "    </tr>\n",
       "    <tr>\n",
       "      <th>Average Price</th>\n",
       "      <td>-5.961634e-01</td>\n",
       "    </tr>\n",
       "    <tr>\n",
       "      <th>Total Traded Quantity</th>\n",
       "      <td>-3.505617e-06</td>\n",
       "    </tr>\n",
       "    <tr>\n",
       "      <th>Turnover</th>\n",
       "      <td>1.391378e-09</td>\n",
       "    </tr>\n",
       "    <tr>\n",
       "      <th>No. of Trades</th>\n",
       "      <td>3.560425e-05</td>\n",
       "    </tr>\n",
       "    <tr>\n",
       "      <th>Deliverable Qty</th>\n",
       "      <td>1.010385e-06</td>\n",
       "    </tr>\n",
       "  </tbody>\n",
       "</table>\n",
       "</div>"
      ],
      "text/plain": [
       "                        Coefficient\n",
       "Prev Close             3.302880e-02\n",
       "High Price             1.099763e+00\n",
       "Low Price              1.096498e+00\n",
       "Last Price            -2.602347e-02\n",
       "Close Price           -6.093215e-01\n",
       "Average Price         -5.961634e-01\n",
       "Total Traded Quantity -3.505617e-06\n",
       "Turnover               1.391378e-09\n",
       "No. of Trades          3.560425e-05\n",
       "Deliverable Qty        1.010385e-06"
      ]
     },
     "execution_count": 248,
     "metadata": {},
     "output_type": "execute_result"
    }
   ],
   "source": [
    "coeff_df = pd.DataFrame(lm.coef_,x.columns,columns=['Coefficient'])\n",
    "coeff_df"
   ]
  },
  {
   "cell_type": "code",
   "execution_count": 249,
   "metadata": {
    "collapsed": true
   },
   "outputs": [],
   "source": [
    "predictions = lm.predict(X_test)"
   ]
  },
  {
   "cell_type": "code",
   "execution_count": 250,
   "metadata": {
    "collapsed": false
   },
   "outputs": [
    {
     "data": {
      "text/plain": [
       "<matplotlib.collections.PathCollection at 0x25a045a1400>"
      ]
     },
     "execution_count": 250,
     "metadata": {},
     "output_type": "execute_result"
    },
    {
     "data": {
      "image/png": "[encoded data removed]",
      "text/plain": [
       "<matplotlib.figure.Figure at 0x25a043c1278>"
      ]
     },
     "metadata": {},
     "output_type": "display_data"
    }
   ],
   "source": [
    "plt.scatter(y_test,predictions)"
   ]
  },
  {
   "cell_type": "code",
   "execution_count": 251,
   "metadata": {
    "collapsed": true
   },
   "outputs": [],
   "source": [
    "from sklearn import metrics"
   ]
  },
  {
   "cell_type": "code",
   "execution_count": 252,
   "metadata": {
    "collapsed": false
   },
   "outputs": [
    {
     "name": "stdout",
     "output_type": "stream",
     "text": [
      "MAE: 9.71420166216\n",
      "MSE: 231.477528899\n",
      "RMSE: 15.2143855906\n"
     ]
    }
   ],
   "source": [
    "print('MAE:', metrics.mean_absolute_error(y_test, predictions))\n",
    "print('MSE:', metrics.mean_squared_error(y_test, predictions))\n",
    "print('RMSE:', np.sqrt(metrics.mean_squared_error(y_test, predictions)))   "
   ]
  }
 ],
 "metadata": {
  "kernelspec": {
   "display_name": "Python 3",
   "language": "python",
   "name": "python3"
  },
  "language_info": {
   "codemirror_mode": {
    "name": "ipython",
    "version": 3
   },
   "file_extension": ".py",
   "mimetype": "text/x-python",
   "name": "python",
   "nbconvert_exporter": "python",
   "pygments_lexer": "ipython3",
   "version": "3.6.0"
  }
 },
 "nbformat": 4,
 "nbformat_minor": 2
}
